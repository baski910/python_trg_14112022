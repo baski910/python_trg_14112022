{
 "cells": [
  {
   "cell_type": "code",
   "execution_count": 1,
   "id": "b7e698e0",
   "metadata": {},
   "outputs": [
    {
     "name": "stdout",
     "output_type": "stream",
     "text": [
      "reference of list1: 139977754218696\n",
      "elements of list1: [10, 20, 30, 40, 50]\n",
      "####################after modification####################\n",
      "reference of list1: 139977754218696\n",
      "elements of list1: [10, 100, 30, 40, 50]\n"
     ]
    }
   ],
   "source": [
    "\"\"\"list as mutable objects\"\"\"\n",
    "list1 = [10,20,30,40,50]  # the list elements can be of any data type. need not be of same datatype\n",
    "\n",
    "print(\"reference of list1:\",id(list1))\n",
    "print(\"elements of list1:\",list1)\n",
    "\n",
    "list1[1] = 100\n",
    "print(\"#\"*20+\"after modification\"+\"#\"*20)\n",
    "\n",
    "print(\"reference of list1:\",id(list1))\n",
    "print(\"elements of list1:\",list1)"
   ]
  },
  {
   "cell_type": "code",
   "execution_count": 3,
   "id": "b56cc080",
   "metadata": {},
   "outputs": [
    {
     "name": "stdout",
     "output_type": "stream",
     "text": [
      "reference of list1: 139977754222728\n",
      "reference of list2: 139977754222728\n",
      "elements of list1: ['a', 'b', 'c', 'd', 'e', 'f']\n",
      "elements of list2: ['a', 'b', 'c', 'd', 'e', 'f']\n",
      "####################after modification####################\n",
      "elements of list1: ['a', 'b', 'c', 'g', 'e', 'f']\n",
      "elements of list2: ['a', 'b', 'c', 'g', 'e', 'f']\n"
     ]
    }
   ],
   "source": [
    "\"\"\"Examples for list references\"\"\"\n",
    "list1 = ['a','b','c','d','e','f']  # the list elements can be of any data type. need not be of same datatype\n",
    "\n",
    "# the below assignment will assign the reference of list1 to list2\n",
    "# changes made to list1 or list2 will be reflected in the both the lists\n",
    "\n",
    "list2 = list1 # target - list2   and   source - list1\n",
    "\n",
    "print(\"reference of list1:\",id(list1))\n",
    "print(\"reference of list2:\",id(list2))\n",
    "\n",
    "print(\"elements of list1:\",list1)\n",
    "print(\"elements of list2:\",list2)\n",
    "\n",
    "list2[3]='g'\n",
    "\n",
    "print(\"#\"*20+\"after modification\"+\"#\"*20)\n",
    "\n",
    "print(\"elements of list1:\",list1)\n",
    "print(\"elements of list2:\",list2)"
   ]
  },
  {
   "cell_type": "code",
   "execution_count": null,
   "id": "b9b70b31",
   "metadata": {},
   "outputs": [],
   "source": []
  }
 ],
 "metadata": {
  "kernelspec": {
   "display_name": "Python 3 (ipykernel)",
   "language": "python",
   "name": "python3"
  },
  "language_info": {
   "codemirror_mode": {
    "name": "ipython",
    "version": 3
   },
   "file_extension": ".py",
   "mimetype": "text/x-python",
   "name": "python",
   "nbconvert_exporter": "python",
   "pygments_lexer": "ipython3",
   "version": "3.7.3"
  }
 },
 "nbformat": 4,
 "nbformat_minor": 5
}
