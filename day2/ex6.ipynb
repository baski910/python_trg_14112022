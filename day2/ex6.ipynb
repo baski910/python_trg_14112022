{
 "cells": [
  {
   "cell_type": "code",
   "execution_count": 1,
   "id": "6b22119b",
   "metadata": {},
   "outputs": [],
   "source": [
    "#pop - By default (without any argument) removes the last element with argument removes the element at index specified by the argument\n",
    "#reduces the size of the list by 1. Returns the element removed\n",
    "\n",
    "#remove - takes 1 argument. remove the element specified by the argument, has no return value.\n",
    "#Throws error if the element specified is not present in the list"
   ]
  },
  {
   "cell_type": "code",
   "execution_count": 3,
   "id": "d8d25cce",
   "metadata": {},
   "outputs": [
    {
     "name": "stdout",
     "output_type": "stream",
     "text": [
      "elements of list1: [10, 20, 30, 40, 50]\n",
      "size of list1: 5\n",
      "element removed: 30\n",
      "#################### after pop ####################\n",
      "elements of list1: [10, 20, 40, 50]\n",
      "size of list1: 4\n"
     ]
    }
   ],
   "source": [
    "\"\"\"Examples for pop\"\"\"\n",
    "\n",
    "list1 = [10,20,30,40,50]\n",
    "\n",
    "print(\"elements of list1:\",list1)\n",
    "print(\"size of list1:\", len(list1))\n",
    "\n",
    "#element = list1.pop() # removes last element without argument\n",
    "element = list1.pop(2) # removes the element at index 2\n",
    "\n",
    "print(\"element removed:\", element)\n",
    "print(\"#\"*20+\" after pop \"+\"#\"*20)\n",
    "\n",
    "print(\"elements of list1:\",list1)\n",
    "print(\"size of list1:\", len(list1))"
   ]
  },
  {
   "cell_type": "code",
   "execution_count": 6,
   "id": "f886964d",
   "metadata": {},
   "outputs": [
    {
     "name": "stdout",
     "output_type": "stream",
     "text": [
      "elements of list1: [10, 20, 30, 20, 40, 20, 50]\n",
      "size of list1: 7\n",
      "#################### after pop ####################\n",
      "elements of list1: [10, 30, 20, 40, 20, 50]\n",
      "size of list1: 6\n"
     ]
    }
   ],
   "source": [
    "\"\"\"Examples for remove - removes only first occurance of a value\"\"\"\n",
    "\n",
    "list1 = [10,20,30,20,40,20,50]\n",
    "\n",
    "print(\"elements of list1:\",list1)\n",
    "print(\"size of list1:\", len(list1))\n",
    "\n",
    "\n",
    "list1.remove(20) # removes 20 from list\n",
    "#list1.remove(60) # results in error as the value is not present\n",
    "\n",
    "\n",
    "print(\"#\"*20+\" after pop \"+\"#\"*20)\n",
    "\n",
    "print(\"elements of list1:\",list1)\n",
    "print(\"size of list1:\", len(list1))"
   ]
  },
  {
   "cell_type": "code",
   "execution_count": 7,
   "id": "2178ac9e",
   "metadata": {},
   "outputs": [
    {
     "name": "stdout",
     "output_type": "stream",
     "text": [
      "[10, 30, 40, 50]\n"
     ]
    }
   ],
   "source": [
    "list1 = [x for x in list1 if x != 20]\n",
    "print(list1)"
   ]
  },
  {
   "cell_type": "code",
   "execution_count": null,
   "id": "12a1e48c",
   "metadata": {},
   "outputs": [],
   "source": []
  }
 ],
 "metadata": {
  "kernelspec": {
   "display_name": "Python 3 (ipykernel)",
   "language": "python",
   "name": "python3"
  },
  "language_info": {
   "codemirror_mode": {
    "name": "ipython",
    "version": 3
   },
   "file_extension": ".py",
   "mimetype": "text/x-python",
   "name": "python",
   "nbconvert_exporter": "python",
   "pygments_lexer": "ipython3",
   "version": "3.7.3"
  }
 },
 "nbformat": 4,
 "nbformat_minor": 5
}
