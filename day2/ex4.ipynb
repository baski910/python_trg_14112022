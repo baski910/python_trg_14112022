{
 "cells": [
  {
   "cell_type": "code",
   "execution_count": 1,
   "id": "0adeb49d",
   "metadata": {},
   "outputs": [
    {
     "name": "stdout",
     "output_type": "stream",
     "text": [
      "37\n"
     ]
    }
   ],
   "source": [
    "\"\"\"example for nested list\"\"\"\n",
    "\n",
    "list1 = [48,\"hello\",13.25,91,37,\"world\",True,\"flowers\",51,78] # the elements can be of different data type\n",
    "#         0     1     2    3  4   5       6     7      8  9\n",
    "# iterate over the list using a for loop\n",
    "\n",
    "print(list1[4])"
   ]
  },
  {
   "cell_type": "code",
   "execution_count": 4,
   "id": "0cb1dc73",
   "metadata": {},
   "outputs": [
    {
     "name": "stdout",
     "output_type": "stream",
     "text": [
      "[91, 37]\n",
      "91\n",
      "37\n"
     ]
    }
   ],
   "source": [
    "list1 = [48,\"hello\",13.25,[91,37],\"world\",True,\"flowers\",51,78]\n",
    "#        0     1     2       3      4\n",
    "print(list1[3]) # accessing 3rd element that is a list\n",
    "\n",
    "print(list1[3][0])\n",
    "\n",
    "print(list1[3][1])"
   ]
  },
  {
   "cell_type": "code",
   "execution_count": null,
   "id": "b86991f1",
   "metadata": {},
   "outputs": [],
   "source": [
    "list1 = [1,2,3,4,5]\n",
    "\n",
    "list2 = list1\n",
    "\n",
    "print(id(list2))\n",
    "print(id(list1))"
   ]
  }
 ],
 "metadata": {
  "kernelspec": {
   "display_name": "Python 3 (ipykernel)",
   "language": "python",
   "name": "python3"
  },
  "language_info": {
   "codemirror_mode": {
    "name": "ipython",
    "version": 3
   },
   "file_extension": ".py",
   "mimetype": "text/x-python",
   "name": "python",
   "nbconvert_exporter": "python",
   "pygments_lexer": "ipython3",
   "version": "3.7.3"
  }
 },
 "nbformat": 4,
 "nbformat_minor": 5
}
