{
 "cells": [
  {
   "cell_type": "code",
   "execution_count": 2,
   "id": "5583b81a",
   "metadata": {},
   "outputs": [
    {
     "name": "stdout",
     "output_type": "stream",
     "text": [
      "[0, 1, 2, 3, 4, 5, 6, 7, 8, 9]\n"
     ]
    }
   ],
   "source": [
    "# list comprehension - a tecnique to generate a list in mathematical way.\n",
    "\n",
    "list1 = []\n",
    "\n",
    "for num in range(10):\n",
    "    list1.append(num)\n",
    "    #print(num)\n",
    "          \n",
    "print(list1)"
   ]
  },
  {
   "cell_type": "code",
   "execution_count": 6,
   "id": "495f0a53",
   "metadata": {},
   "outputs": [
    {
     "name": "stdout",
     "output_type": "stream",
     "text": [
      "[0, 1, 2, 3, 4, 5, 6, 7, 8, 9, 10, 11, 12, 13, 14, 15, 16, 17, 18, 19, 20, 21, 22, 23, 24, 25, 26, 27, 28, 29, 30, 31, 32, 33, 34, 35, 36, 37, 38, 39, 40, 41, 42, 43, 44, 45, 46, 47, 48, 49]\n"
     ]
    }
   ],
   "source": [
    "numbers = [n for n in range(50)]\n",
    "print(numbers)"
   ]
  },
  {
   "cell_type": "code",
   "execution_count": 7,
   "id": "ecff0941",
   "metadata": {},
   "outputs": [
    {
     "name": "stdout",
     "output_type": "stream",
     "text": [
      "[0, 2, 4, 6, 8, 10, 12, 14, 16, 18, 20, 22, 24, 26, 28, 30, 32, 34, 36, 38, 40, 42, 44, 46, 48, 50, 52, 54, 56, 58, 60, 62, 64, 66, 68, 70, 72, 74, 76, 78, 80, 82, 84, 86, 88, 90, 92, 94, 96, 98]\n"
     ]
    }
   ],
   "source": [
    "# adding a condition in list comprehension\n",
    "#even_numbers = []\n",
    "#for n in range(100):\n",
    "#    if n%2==0:\n",
    "#        even_numbers.append(n)\n",
    "\n",
    "even_numbers = [n for n in range(100) if n%2==0]\n",
    "print(even_numbers)"
   ]
  },
  {
   "cell_type": "code",
   "execution_count": 8,
   "id": "79de0122",
   "metadata": {},
   "outputs": [
    {
     "name": "stdout",
     "output_type": "stream",
     "text": [
      "[0, 1, 4, 9, 16, 25, 36, 49, 64, 81, 100, 121, 144, 169, 196, 225, 256, 289, 324, 361, 400, 441, 484, 529, 576, 625, 676, 729, 784, 841, 900, 961, 1024, 1089, 1156, 1225, 1296, 1369, 1444, 1521, 1600, 1681, 1764, 1849, 1936, 2025, 2116, 2209, 2304, 2401]\n"
     ]
    }
   ],
   "source": [
    "square_of_numbers = [n*n for n in range(50)]\n",
    "print(square_of_numbers)"
   ]
  },
  {
   "cell_type": "code",
   "execution_count": 11,
   "id": "ffee6b19",
   "metadata": {},
   "outputs": [
    {
     "name": "stdout",
     "output_type": "stream",
     "text": [
      "['e', 'o', 'o']\n"
     ]
    }
   ],
   "source": [
    "# take out vowels from a string\n",
    "s2 = \"helloworld\"\n",
    "\n",
    "vowels = ['a','e','i','o','u']\n",
    "\n",
    "#chars = []\n",
    "\n",
    "#for element in s2:\n",
    "#    if element in vowels:\n",
    "#        chars.append(element)\n",
    "\n",
    "#print(chars)\n",
    "\n",
    "chars = [element for element in s2 if element in vowels]\n",
    "\n",
    "print(chars)"
   ]
  },
  {
   "cell_type": "code",
   "execution_count": 14,
   "id": "a689a7ae",
   "metadata": {},
   "outputs": [
    {
     "name": "stdout",
     "output_type": "stream",
     "text": [
      "a comes at index 5\n",
      "b comes at index 6\n",
      "c comes at index 7\n",
      "d comes at index 8\n",
      "e comes at index 9\n",
      "f comes at index 10\n"
     ]
    }
   ],
   "source": [
    "# enumerate - takes a sequence as argument in iteration. in each iteration it returns 2 values i.,e index and element\n",
    "#             optionally takes 2nd argument as start index\n",
    "\n",
    "list1 = ['a','b','c','d','e','f']\n",
    "\n",
    "#for num,char in enumerate(list1):\n",
    "for num,char in enumerate(list1,5): # forcing enumerate to start from 5\n",
    "    print(f\"{char} comes at index {num}\")"
   ]
  },
  {
   "cell_type": "code",
   "execution_count": null,
   "id": "2bc87857",
   "metadata": {},
   "outputs": [],
   "source": []
  }
 ],
 "metadata": {
  "kernelspec": {
   "display_name": "Python 3 (ipykernel)",
   "language": "python",
   "name": "python3"
  },
  "language_info": {
   "codemirror_mode": {
    "name": "ipython",
    "version": 3
   },
   "file_extension": ".py",
   "mimetype": "text/x-python",
   "name": "python",
   "nbconvert_exporter": "python",
   "pygments_lexer": "ipython3",
   "version": "3.7.3"
  }
 },
 "nbformat": 4,
 "nbformat_minor": 5
}
