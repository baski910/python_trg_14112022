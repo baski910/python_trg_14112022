{
 "cells": [
  {
   "cell_type": "code",
   "execution_count": null,
   "id": "db64a036",
   "metadata": {},
   "outputs": [],
   "source": [
    "#In case of shallow copy, the modification made to one list may affect other list depending on the elements\n",
    "#being immutable or mutable object. If the element is an immutable object, the changes will not be reflected,\n",
    "#otherwise it will be reflected"
   ]
  },
  {
   "cell_type": "code",
   "execution_count": 2,
   "id": "1fdd17a5",
   "metadata": {},
   "outputs": [
    {
     "name": "stdout",
     "output_type": "stream",
     "text": [
      "reference of list1: 140018283879496\n",
      "reference of list2: 140018283871368\n",
      "reference of element at index 3 of list1: 140018402175496\n",
      "reference of element at index 3 of list2: 140018402175496\n",
      "elements of list1: ['a', 'b', 'c', 'd', 'e', 'f']\n",
      "elements of list2: ['a', 'b', 'c', 'd', 'e', 'f']\n",
      "#################### after modification ####################\n",
      "reference of element at index 3 of list1: 140018402175496\n",
      "reference of element at index 3 of list2: 140018401797320\n",
      "elements of list1: ['a', 'b', 'c', 'd', 'e', 'f']\n",
      "elements of list2: ['a', 'b', 'c', 'g', 'e', 'f']\n"
     ]
    }
   ],
   "source": [
    "\"\"\"Examples for shallow copy - modify immutable object\"\"\"\n",
    "\n",
    "# list can be copied by using list function 'copy'\n",
    "# list1 = ['a','b','c','d','e','f']\n",
    "# list2 = list1.copy()\n",
    "\n",
    "\n",
    "list1 = ['a','b','c','d','e','f'] # list elements are immutable objects\n",
    "\n",
    "print(\"reference of list1:\",id(list1))\n",
    "\n",
    "list2 = list1[:] # list2 will be created with new reference but with set of elements in list1\n",
    "\n",
    "print(\"reference of list2:\",id(list2))\n",
    "\n",
    "print(\"reference of element at index 3 of list1:\",id(list1[3]))\n",
    "print(\"reference of element at index 3 of list2:\",id(list2[3]))\n",
    "\n",
    "print(\"elements of list1:\",list1)\n",
    "\n",
    "print(\"elements of list2:\",list2)\n",
    "\n",
    "\n",
    "list2[3] = 'g' # changing element 'd' to 'g' in list2\n",
    "\n",
    "print(\"#\"*20+\" after modification \"+\"#\"*20)\n",
    "\n",
    "print(\"reference of element at index 3 of list1:\",id(list1[3]))\n",
    "print(\"reference of element at index 3 of list2:\",id(list2[3]))\n",
    "\n",
    "# modification made to list2 does not affect list1\n",
    "print(\"elements of list1:\",list1)\n",
    "\n",
    "print(\"elements of list2:\",list2)"
   ]
  },
  {
   "cell_type": "code",
   "execution_count": 5,
   "id": "b321fc28",
   "metadata": {},
   "outputs": [
    {
     "name": "stdout",
     "output_type": "stream",
     "text": [
      "reference of list1: 140018283881032\n",
      "reference of list2: 140018283879496\n",
      "reference of element at index 3 of list1: 140018283880648\n",
      "reference of element at index 3 of list2: 140018283880648\n",
      "elements of list1: ['a', 'b', ['c', 'd'], 'e', 'f']\n",
      "elements of list2: ['a', 'b', ['c', 'd'], 'e', 'f']\n",
      "#################### after modification ####################\n",
      "reference of element at index 2 of list1: 140018283880648\n",
      "reference of element at index 2 of list2: 140018283880648\n",
      "elements of list1: ['a', 'b', ['c', 'g'], 'e', 'f']\n",
      "elements of list2: ['a', 'b', ['c', 'g'], 'e', 'f']\n"
     ]
    }
   ],
   "source": [
    "\"\"\"Examples for shallow copy - modify mutable object\"\"\"\n",
    "\n",
    "# list can be copied by using list function 'copy'\n",
    "# list1 = ['a','b','c','d','e','f']\n",
    "# list2 = list1.copy()\n",
    "\n",
    "\n",
    "list1 = ['a','b',['c','d'],'e','f'] # list elements are immutable objects\n",
    "\n",
    "print(\"reference of list1:\",id(list1))\n",
    "\n",
    "list2 = list1[:] # list2 will be created with new reference but with set of elements in list1\n",
    "\n",
    "print(\"reference of list2:\",id(list2))\n",
    "\n",
    "print(\"reference of element at index 3 of list1:\",id(list1[2]))\n",
    "print(\"reference of element at index 3 of list2:\",id(list2[2]))\n",
    "\n",
    "print(\"elements of list1:\",list1)\n",
    "\n",
    "print(\"elements of list2:\",list2)\n",
    "\n",
    "list2[2][1] = 'g'\n",
    "\n",
    "print(\"#\"*20+\" after modification \"+\"#\"*20)\n",
    "print(\"reference of element at index 2 of list1:\",id(list1[2]))\n",
    "print(\"reference of element at index 2 of list2:\",id(list2[2]))\n",
    "\n",
    "# modification made to list2 reflects in list1\n",
    "print(\"elements of list1:\",list1)\n",
    "\n",
    "print(\"elements of list2:\",list2)"
   ]
  },
  {
   "cell_type": "code",
   "execution_count": null,
   "id": "281ca797",
   "metadata": {},
   "outputs": [],
   "source": []
  }
 ],
 "metadata": {
  "kernelspec": {
   "display_name": "Python 3 (ipykernel)",
   "language": "python",
   "name": "python3"
  },
  "language_info": {
   "codemirror_mode": {
    "name": "ipython",
    "version": 3
   },
   "file_extension": ".py",
   "mimetype": "text/x-python",
   "name": "python",
   "nbconvert_exporter": "python",
   "pygments_lexer": "ipython3",
   "version": "3.7.3"
  }
 },
 "nbformat": 4,
 "nbformat_minor": 5
}
