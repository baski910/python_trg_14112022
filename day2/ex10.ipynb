{
 "cells": [
  {
   "cell_type": "code",
   "execution_count": 1,
   "id": "0abacd84",
   "metadata": {},
   "outputs": [],
   "source": [
    "#Python's dictionaries are kind of hash table type\n",
    "#They work like associative arrays or hashes found in Perl and consist of key-value pairs\n",
    "#A dictionary key should be unique can be of any immutable type, but are usually numbers or strings\n",
    "#Values, on the other hand, can be any arbitrary Python object\n",
    "#Dictionaries are enclosed by curly braces ( { } ) and \n",
    "#values can be assigned and accessed using square braces ( [] )"
   ]
  },
  {
   "cell_type": "code",
   "execution_count": 3,
   "id": "39b81200",
   "metadata": {},
   "outputs": [
    {
     "name": "stdout",
     "output_type": "stream",
     "text": [
      "{'name': 'alice', 'age': 7, 'class': 'first'}\n",
      "7\n"
     ]
    }
   ],
   "source": [
    "\"\"\"Dictionary examples\"\"\"\n",
    "\n",
    "d1 = {'name':'alice','age':7,'class':'first'}\n",
    "\n",
    "print(d1)\n",
    "\n",
    "# access a value against a specific key.\n",
    "print(d1['age']) # the output will be 7"
   ]
  },
  {
   "cell_type": "code",
   "execution_count": 4,
   "id": "de74a050",
   "metadata": {},
   "outputs": [
    {
     "name": "stdout",
     "output_type": "stream",
     "text": [
      "{'name': 'alice', 'age': 10, 'class': 'first'}\n"
     ]
    }
   ],
   "source": [
    "#dictionary values can be updated by simple assignment\n",
    "d1['age']=10 # updates the value against the key, if key is present otherwise the key is created\n",
    "print(d1)"
   ]
  },
  {
   "cell_type": "code",
   "execution_count": 5,
   "id": "f195e6d3",
   "metadata": {},
   "outputs": [
    {
     "name": "stdout",
     "output_type": "stream",
     "text": [
      "{'name': 'alice', 'age': 10, 'class': 'first', 'lname': 'joe'}\n"
     ]
    }
   ],
   "source": [
    "d1['lname'] = 'joe' # creates a new key 'lname' with value 'joe'\n",
    "print(d1)"
   ]
  },
  {
   "cell_type": "code",
   "execution_count": 6,
   "id": "ae267204",
   "metadata": {},
   "outputs": [
    {
     "name": "stdout",
     "output_type": "stream",
     "text": [
      "{'name': 'bob', 'age': 7, 'class': 'first'}\n"
     ]
    }
   ],
   "source": [
    "# repeating a key is not an error, the last pair of key and value will overwrite the previous one\n",
    "d1 = {'name':'alice','age':7,'class':'first','name':'bob'} # the value for the key 'name' will be bob\n",
    "print(d1)"
   ]
  },
  {
   "cell_type": "code",
   "execution_count": 7,
   "id": "53b5abdc",
   "metadata": {},
   "outputs": [
    {
     "name": "stdout",
     "output_type": "stream",
     "text": [
      "before update: {'name': 'alice', 'age': 7, 'class': 'first'}\n",
      "after update: {'name': 'alice', 'age': 7, 'class': 'first', 'school': 'cps school', 'rank': 'second'}\n"
     ]
    }
   ],
   "source": [
    "\"\"\"merge dictionary\"\"\"\n",
    "\n",
    "#update - is a dictionary function, used for merging two dictionaries\n",
    "#       takes another dictionary as argument, and updates the orginal\n",
    "#       dictionary with key and value pairs in the dictionary passed as argument\n",
    "\n",
    "d1 = {'name':'alice','age':7,'class':'first'} \n",
    "\n",
    "d2 = {'school': 'cps school','rank':'second'}\n",
    "\n",
    "print(\"before update:\",d1)\n",
    "\n",
    "d1.update(d2)\n",
    "\n",
    "print(\"after update:\",d1)"
   ]
  },
  {
   "cell_type": "code",
   "execution_count": null,
   "id": "508f89ce",
   "metadata": {},
   "outputs": [],
   "source": []
  }
 ],
 "metadata": {
  "kernelspec": {
   "display_name": "Python 3 (ipykernel)",
   "language": "python",
   "name": "python3"
  },
  "language_info": {
   "codemirror_mode": {
    "name": "ipython",
    "version": 3
   },
   "file_extension": ".py",
   "mimetype": "text/x-python",
   "name": "python",
   "nbconvert_exporter": "python",
   "pygments_lexer": "ipython3",
   "version": "3.7.3"
  }
 },
 "nbformat": 4,
 "nbformat_minor": 5
}
