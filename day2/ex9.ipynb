{
 "cells": [
  {
   "cell_type": "code",
   "execution_count": 3,
   "id": "73f7d24c",
   "metadata": {},
   "outputs": [
    {
     "name": "stdout",
     "output_type": "stream",
     "text": [
      "(10, 20, 30, 40)\n",
      "(10, 20, 30, 40, 50, 60)\n"
     ]
    }
   ],
   "source": [
    "# tuple - constant array - created using parenthesis\n",
    "# a single element tuple needs trailing comma\n",
    "\n",
    "#t1 = (10,20,30,40)\n",
    "t1 = 10,20,30,40\n",
    "\n",
    "#t1[2] = 'new value' # results in error. tuple element can not be modified\n",
    "\n",
    "print(t1)\n",
    "\n",
    "t1 = (10,20,30,40, 50,60)\n",
    "\n",
    "print(t1)"
   ]
  },
  {
   "cell_type": "code",
   "execution_count": 5,
   "id": "c00844e7",
   "metadata": {},
   "outputs": [
    {
     "name": "stdout",
     "output_type": "stream",
     "text": [
      "<class 'int'>\n",
      "<class 'tuple'>\n"
     ]
    }
   ],
   "source": [
    "# single element tuple needs a trailing comma\n",
    "\n",
    "t2 = (10)\n",
    "\n",
    "print(type(t2)) # output will be <class 'int'>\n",
    "\n",
    "t2 = (10,)\n",
    "\n",
    "print(type(t2)) # output will be <class 'tuple'>"
   ]
  },
  {
   "cell_type": "code",
   "execution_count": null,
   "id": "163e0d52",
   "metadata": {},
   "outputs": [],
   "source": []
  }
 ],
 "metadata": {
  "kernelspec": {
   "display_name": "Python 3 (ipykernel)",
   "language": "python",
   "name": "python3"
  },
  "language_info": {
   "codemirror_mode": {
    "name": "ipython",
    "version": 3
   },
   "file_extension": ".py",
   "mimetype": "text/x-python",
   "name": "python",
   "nbconvert_exporter": "python",
   "pygments_lexer": "ipython3",
   "version": "3.7.3"
  }
 },
 "nbformat": 4,
 "nbformat_minor": 5
}
