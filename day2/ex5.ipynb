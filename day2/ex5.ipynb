{
 "cells": [
  {
   "cell_type": "code",
   "execution_count": null,
   "id": "0582cdd7",
   "metadata": {},
   "outputs": [],
   "source": [
    "#append - takes 1 argument. argument is added to the end of the list.\n",
    "#increases the size of the list by 1."
   ]
  },
  {
   "cell_type": "code",
   "execution_count": 4,
   "id": "8862f37d",
   "metadata": {},
   "outputs": [
    {
     "name": "stdout",
     "output_type": "stream",
     "text": [
      "elements of list1: [10, 20, 30, 40]\n",
      "size of list1: 4\n",
      "#################### after append ####################\n",
      "elements of list1: [10, 20, 30, 40, [50, 60, 70]]\n",
      "5\n",
      "[50, 60, 70]\n"
     ]
    }
   ],
   "source": [
    "\"\"\"Examples for adding elements to list\"\"\"\n",
    "\n",
    "list1 = [10,20,30,40]\n",
    "\n",
    "print(\"elements of list1:\",list1)\n",
    "print(\"size of list1:\",len(list1))\n",
    "\n",
    "#list1.append(50)\n",
    "list1.append([50,60,70]) # append a sequence\n",
    "\n",
    "print(\"#\"*20+\" after append \"+\"#\"*20)\n",
    "\n",
    "print(\"elements of list1:\",list1)\n",
    "print(len(list1))\n",
    "print(list1[4])"
   ]
  },
  {
   "cell_type": "code",
   "execution_count": 5,
   "id": "f055bb18",
   "metadata": {},
   "outputs": [
    {
     "name": "stdout",
     "output_type": "stream",
     "text": [
      "elements of list1: [10, 20, 30, 40]\n",
      "size of list1: 4\n",
      "#################### after extend ####################\n",
      "elements of list1: [10, 20, 30, 40, 50, 60, 70]\n",
      "7\n",
      "50\n"
     ]
    }
   ],
   "source": [
    "\"\"\"Example for extend\"\"\"\n",
    "\n",
    "list1 = [10,20,30,40]\n",
    "\n",
    "print(\"elements of list1:\",list1)\n",
    "print(\"size of list1:\",len(list1))\n",
    "\n",
    "list1.extend([50,60,70])\n",
    "\n",
    "print(\"#\"*20+\" after extend \"+\"#\"*20)\n",
    "\n",
    "print(\"elements of list1:\",list1)\n",
    "print(len(list1))\n",
    "print(list1[4])"
   ]
  },
  {
   "cell_type": "code",
   "execution_count": 11,
   "id": "2350dd22",
   "metadata": {},
   "outputs": [
    {
     "name": "stdout",
     "output_type": "stream",
     "text": [
      "elements of list1: [10, 20, 30, 40]\n",
      "size of list1: 4\n",
      "#################### after insert ####################\n",
      "elements of list1: [10, 20, 50, 60, 70, 30, 40]\n",
      "7\n"
     ]
    }
   ],
   "source": [
    "\"\"\"example for insert\"\"\"\n",
    "list1 = [10,20,30,40]\n",
    "\n",
    "print(\"elements of list1:\",list1)\n",
    "print(\"size of list1:\",len(list1))\n",
    "\n",
    "#list1.insert(2,50)\n",
    "#list1.insert(2,[50,60,70]) # insert a sequence\n",
    "print(\"#\"*20+\" after insert \"+\"#\"*20)\n",
    "\n",
    "#for idx,val in enumerate([50,60,70]):\n",
    "#    list1.insert(2+idx,val)\n",
    "\n",
    "print(\"elements of list1:\",list1)\n",
    "print(len(list1))"
   ]
  },
  {
   "cell_type": "code",
   "execution_count": null,
   "id": "cdee658a",
   "metadata": {},
   "outputs": [],
   "source": []
  },
  {
   "cell_type": "code",
   "execution_count": null,
   "id": "b1bacf4b",
   "metadata": {},
   "outputs": [],
   "source": []
  }
 ],
 "metadata": {
  "kernelspec": {
   "display_name": "Python 3 (ipykernel)",
   "language": "python",
   "name": "python3"
  },
  "language_info": {
   "codemirror_mode": {
    "name": "ipython",
    "version": 3
   },
   "file_extension": ".py",
   "mimetype": "text/x-python",
   "name": "python",
   "nbconvert_exporter": "python",
   "pygments_lexer": "ipython3",
   "version": "3.7.3"
  }
 },
 "nbformat": 4,
 "nbformat_minor": 5
}
