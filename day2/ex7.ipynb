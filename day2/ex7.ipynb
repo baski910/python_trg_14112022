{
 "cells": [
  {
   "cell_type": "code",
   "execution_count": 1,
   "id": "1007f1b7",
   "metadata": {},
   "outputs": [],
   "source": [
    "#sort - list function. sorts the list in line. Optionally takes key and reverse as arguments\n",
    "#       has no return value. The original list itself gets modified\n",
    "#sorted - Built-in function. takes list (to be sorted ) as argument. \n",
    "#         Optionally takes key and reverse as arguments. Returns the sorted list. Original list is not modified"
   ]
  },
  {
   "cell_type": "code",
   "execution_count": 2,
   "id": "e777d8f6",
   "metadata": {},
   "outputs": [
    {
     "name": "stdout",
     "output_type": "stream",
     "text": [
      "before sorting: [79, 134, 56, 10, 9, 268, 613, 84, 95, 472, 861, 720, 23, 49, 516, 65]\n",
      "after sorting: [9, 10, 23, 49, 56, 65, 79, 84, 95, 134, 268, 472, 516, 613, 720, 861]\n"
     ]
    }
   ],
   "source": [
    "\"\"\"Example for sort\"\"\"\n",
    "\n",
    "list1 = [79,134,56,36,10,9,268,613,84,95,472,861,720,23,49,381,516,65]\n",
    "\n",
    "print(\"before sorting:\",list1)\n",
    "\n",
    "list1.sort()\n",
    "\n",
    "print(\"after sorting:\",list1)"
   ]
  },
  {
   "cell_type": "code",
   "execution_count": 3,
   "id": "294c1cbb",
   "metadata": {},
   "outputs": [
    {
     "name": "stdout",
     "output_type": "stream",
     "text": [
      "before sorting: [79, 134, 56, 36, 10, 9, 268, 613, 84, 95, 472, 861, 720, 23, 49, 381, 516, 65]\n",
      "after sorting: [9, 10, 23, 36, 49, 56, 65, 79, 84, 95, 134, 268, 381, 472, 516, 613, 720, 861]\n",
      "after sorting: [79, 134, 56, 36, 10, 9, 268, 613, 84, 95, 472, 861, 720, 23, 49, 381, 516, 65]\n"
     ]
    }
   ],
   "source": [
    "\"\"\"Example for sorted\"\"\"\n",
    "\n",
    "list1 = [79,134,56,36,10,9,268,613,84,95,472,861,720,23,49,381,516,65]\n",
    "\n",
    "print(\"before sorting:\",list1)\n",
    "\n",
    "list2 = sorted(list1)\n",
    "\n",
    "print(\"after sorting:\",list2)\n",
    "print(\"after sorting:\",list1)"
   ]
  },
  {
   "cell_type": "code",
   "execution_count": 5,
   "id": "ff800b81",
   "metadata": {},
   "outputs": [
    {
     "name": "stdout",
     "output_type": "stream",
     "text": [
      "before sorting: [79, 134, 56, 36, 10, 9, 268, 613, 84, 95, 472, 861, 720, 23, 49, 381, 516, 65]\n",
      "after sorting: [861, 720, 613, 516, 472, 381, 268, 134, 95, 84, 79, 65, 56, 49, 36, 23, 10, 9]\n"
     ]
    }
   ],
   "source": [
    "\"\"\"sort in reverse order by passing reverse=True\"\"\"\n",
    "\n",
    "list1 = [79,134,56,36,10,9,268,613,84,95,472,861,720,23,49,381,516,65]\n",
    "\n",
    "print(\"before sorting:\",list1)\n",
    "\n",
    "list1.sort(reverse=True)\n",
    "\n",
    "print(\"after sorting:\",list1)"
   ]
  },
  {
   "cell_type": "code",
   "execution_count": 7,
   "id": "40dda59b",
   "metadata": {},
   "outputs": [
    {
     "name": "stdout",
     "output_type": "stream",
     "text": [
      "before sorting: [79, 134, 56, 36, 10, 9, 268, 613, 84, 95, 472, 861, 720, 23, 49, 381, 516, 65]\n",
      "after sorting list2: [861, 720, 613, 516, 472, 381, 268, 134, 95, 84, 79, 65, 56, 49, 36, 23, 10, 9]\n",
      "after sorting list1: [79, 134, 56, 36, 10, 9, 268, 613, 84, 95, 472, 861, 720, 23, 49, 381, 516, 65]\n"
     ]
    }
   ],
   "source": [
    "\"\"\"sort in reverse order using sorted\"\"\"\n",
    "\n",
    "list1 = [79,134,56,36,10,9,268,613,84,95,472,861,720,23,49,381,516,65]\n",
    "\n",
    "print(\"before sorting:\",list1)\n",
    "\n",
    "list2 = sorted(list1, reverse=True)\n",
    "\n",
    "print(\"after sorting list2:\",list2)\n",
    "print(\"after sorting list1:\",list1)"
   ]
  },
  {
   "cell_type": "code",
   "execution_count": 11,
   "id": "7c36be99",
   "metadata": {},
   "outputs": [
    {
     "name": "stdout",
     "output_type": "stream",
     "text": [
      "before sorting: [79, 134, 56, 36, 10, 9, 268, 613, 84, 'hello', 95, 472, 861, 720, 23, 'world', 49, 381, 516, 65]\n",
      "after sorting: [10, 134, 23, 268, 36, 381, 472, 49, 516, 56, 613, 65, 720, 79, 84, 861, 9, 95, 'hello', 'world']\n"
     ]
    }
   ],
   "source": [
    "\"\"\"sort a list with elements of different data type\"\"\"\n",
    "\n",
    "# to sort a list having elements with different data type, convert all elements to string datatype\n",
    "\n",
    "list1 = [79,134,56,36,10,9,268,613,84,'hello',95,472,861,720,23,'world',49,381,516,65]\n",
    "\n",
    "print(\"before sorting:\",list1)\n",
    "\n",
    "#list1.sort() # leads to error as list elements have different data type\n",
    "list1.sort(key=str) # converts all elements to str type. for element in list1: element = str(element)\n",
    "\n",
    "print(\"after sorting:\",list1)"
   ]
  },
  {
   "cell_type": "code",
   "execution_count": 10,
   "id": "5a9cd0c7",
   "metadata": {},
   "outputs": [
    {
     "name": "stdout",
     "output_type": "stream",
     "text": [
      "<class 'int'>\n",
      "<class 'str'>\n"
     ]
    }
   ],
   "source": [
    "num = 100\n",
    "print(type(num))\n",
    "\n",
    "num = str(num)\n",
    "print(type(num))"
   ]
  },
  {
   "cell_type": "code",
   "execution_count": 12,
   "id": "a17da7c3",
   "metadata": {},
   "outputs": [],
   "source": [
    "#A List of list can be sorted by specifing the index of inner list, based on which the list has to be sorted\n",
    "#A seperate function (or lambda function) can be defined for returning elements of specific index\n",
    "\n",
    "#Reference of custom function is passed as a parameter to the key for sorting the list. A lambda function\n",
    "#can also be used if custom function is not defined"
   ]
  },
  {
   "cell_type": "code",
   "execution_count": 13,
   "id": "02ff4e97",
   "metadata": {},
   "outputs": [
    {
     "name": "stdout",
     "output_type": "stream",
     "text": [
      "before sorting: [['joe', 60, 'maths'], ['charles', 62, 'physics'], ['alice', 67, 'chemistry'], ['bob', 58, 'computer']]\n",
      "after sorting: [['alice', 67, 'chemistry'], ['bob', 58, 'computer'], ['charles', 62, 'physics'], ['joe', 60, 'maths']]\n"
     ]
    }
   ],
   "source": [
    "\"\"\"Examples for sorting list of list \"\"\"\n",
    "\n",
    "list1 =[\n",
    "    ['joe',60,'maths'],\n",
    "    ['charles',62,'physics'],\n",
    "    ['alice',67,'chemistry'],\n",
    "    ['bob',58,'computer'],\n",
    "]\n",
    "\n",
    "print(\"before sorting:\",list1)\n",
    "\n",
    "list1.sort()\n",
    "\n",
    "print(\"after sorting:\",list1)"
   ]
  },
  {
   "cell_type": "code",
   "execution_count": 15,
   "id": "454f37c2",
   "metadata": {},
   "outputs": [
    {
     "name": "stdout",
     "output_type": "stream",
     "text": [
      "before sorting: [['joe', 60, 'maths'], ['charles', 62, 'physics'], ['alice', 67, 'chemistry'], ['bob', 58, 'computer']]\n",
      "after sorting: [['joe', 60, 'maths'], ['charles', 62, 'physics'], ['alice', 67, 'chemistry'], ['bob', 58, 'computer']]\n",
      "after sorting: [['bob', 58, 'computer'], ['joe', 60, 'maths'], ['charles', 62, 'physics'], ['alice', 67, 'chemistry']]\n"
     ]
    }
   ],
   "source": [
    "\"\"\"Examples for sorting list of list \"\"\"\n",
    "\n",
    "list1 =[\n",
    "    ['joe',60,'maths'],\n",
    "    ['charles',62,'physics'],\n",
    "    ['alice',67,'chemistry'],\n",
    "    ['bob',58,'computer'],\n",
    "]\n",
    "\n",
    "def f(x):\n",
    "    return x[1]\n",
    "\n",
    "print(\"before sorting:\",list1)\n",
    "\n",
    "#list1.sort(key=f)\n",
    "\n",
    "list2 = sorted(list1,key=f)\n",
    "\n",
    "print(\"after sorting:\",list1)\n",
    "print(\"after sorting:\",list2)"
   ]
  },
  {
   "cell_type": "code",
   "execution_count": null,
   "id": "20e856a3",
   "metadata": {},
   "outputs": [],
   "source": []
  }
 ],
 "metadata": {
  "kernelspec": {
   "display_name": "Python 3 (ipykernel)",
   "language": "python",
   "name": "python3"
  },
  "language_info": {
   "codemirror_mode": {
    "name": "ipython",
    "version": 3
   },
   "file_extension": ".py",
   "mimetype": "text/x-python",
   "name": "python",
   "nbconvert_exporter": "python",
   "pygments_lexer": "ipython3",
   "version": "3.7.3"
  }
 },
 "nbformat": 4,
 "nbformat_minor": 5
}
