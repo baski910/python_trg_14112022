{
 "cells": [
  {
   "cell_type": "code",
   "execution_count": 1,
   "id": "3c3b8351",
   "metadata": {},
   "outputs": [],
   "source": [
    "#In deep copy, the lists and their inner elements get different refernces. Hence the modification in one list will\n",
    "#not affect the other\n",
    "# we need a module called 'copy' to create a deep copy"
   ]
  },
  {
   "cell_type": "code",
   "execution_count": 4,
   "id": "9dd0c8cd",
   "metadata": {},
   "outputs": [
    {
     "name": "stdout",
     "output_type": "stream",
     "text": [
      "reference of list1: 139979496226184\n",
      "reference of list2: 139979496225416\n",
      "reference of element at index 2 of list1: 139979496225160\n",
      "reference of element at index 2 of list2: 139979496469448\n",
      "elements of list1: ['a', 'b', ['c', 'd'], 'e', 'f']\n",
      "elements of list2: ['a', 'b', ['c', 'd'], 'e', 'f']\n",
      "d\n"
     ]
    }
   ],
   "source": [
    "\"\"\"Examples for deep copy\"\"\"\n",
    "from copy import deepcopy\n",
    "\n",
    "list1 = ['a','b',['c','d'],'e','f'] # list elements are mutable objects\n",
    "\n",
    "print(\"reference of list1:\",id(list1))\n",
    "\n",
    "list2 = deepcopy(list1) # list2 will be created with new reference but with set of elements in list1\n",
    "\n",
    "print(\"reference of list2:\",id(list2))\n",
    "\n",
    "print(\"reference of element at index 2 of list1:\",id(list1[2]))\n",
    "print(\"reference of element at index 2 of list2:\",id(list2[2]))\n",
    "\n",
    "print(\"elements of list1:\",list1)\n",
    "\n",
    "print(\"elements of list2:\",list2)\n",
    "\n",
    "\n",
    "#print(list2[2][1])\n",
    "list2[2][1]  ='g' # modify 'd' to 'g'\n",
    "\n",
    "print(\"#\"*20+\" after modification \"+\"#\"*20)\n",
    "print(\"reference of element at index 2 of list1:\",id(list1[2]))\n",
    "print(\"reference of element at index 2 of list2:\",id(list2[2]))\n",
    "\n",
    "# modification made to list2 reflects in list1\n",
    "print(\"elements of list1:\",list1)\n",
    "\n",
    "print(\"elements of list2:\",list2)"
   ]
  },
  {
   "cell_type": "code",
   "execution_count": null,
   "id": "0a851771",
   "metadata": {},
   "outputs": [],
   "source": []
  }
 ],
 "metadata": {
  "kernelspec": {
   "display_name": "Python 3 (ipykernel)",
   "language": "python",
   "name": "python3"
  },
  "language_info": {
   "codemirror_mode": {
    "name": "ipython",
    "version": 3
   },
   "file_extension": ".py",
   "mimetype": "text/x-python",
   "name": "python",
   "nbconvert_exporter": "python",
   "pygments_lexer": "ipython3",
   "version": "3.7.3"
  }
 },
 "nbformat": 4,
 "nbformat_minor": 5
}
