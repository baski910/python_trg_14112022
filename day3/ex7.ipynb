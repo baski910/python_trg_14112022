{
 "cells": [
  {
   "cell_type": "code",
   "execution_count": null,
   "id": "1d829211",
   "metadata": {},
   "outputs": [],
   "source": [
    "#In python function name returns the function reference\n",
    "\n",
    "#Function Reference can be assigned to a variable,\n",
    "#the function can be called using the variable"
   ]
  },
  {
   "cell_type": "code",
   "execution_count": 4,
   "id": "42721b4b",
   "metadata": {},
   "outputs": [
    {
     "name": "stdout",
     "output_type": "stream",
     "text": [
      "64\n",
      "<function square at 0x7f2f24289488>\n",
      "<function square at 0x7f2f24289488>\n",
      "64\n"
     ]
    }
   ],
   "source": [
    "\"\"\"Example for first class function\"\"\"\n",
    "\n",
    "def square(x):\n",
    "    return x*x\n",
    "\n",
    "print(square(8)) # output will be 64\n",
    "\n",
    "# print the function reference using function name\n",
    "print(square) # function reference in hexadecimal form\n",
    "\n",
    "# assign the function reference to a variable\n",
    "ref1 = square\n",
    "\n",
    "print(ref1) # function reference in hexadecimal form\n",
    "\n",
    "# call the function using the reference variable\n",
    "print(ref1(8)) # output will be 64"
   ]
  },
  {
   "cell_type": "code",
   "execution_count": 6,
   "id": "6e95ad8f",
   "metadata": {},
   "outputs": [
    {
     "name": "stdout",
     "output_type": "stream",
     "text": [
      "<function <lambda> at 0x7f2f24289620>\n",
      "196\n"
     ]
    }
   ],
   "source": [
    "\"\"\"Examples for lambda function\"\"\"\n",
    "\n",
    "# defining a lambda function\n",
    "ref2 = lambda x: x*x\n",
    "\n",
    "# now ref2 has the reference of lambda\n",
    "print(ref2) # lambda function reference in hexadecimal form\n",
    "\n",
    "print(ref2(14)) # output will be 196"
   ]
  },
  {
   "cell_type": "code",
   "execution_count": null,
   "id": "5117402e",
   "metadata": {},
   "outputs": [],
   "source": []
  }
 ],
 "metadata": {
  "kernelspec": {
   "display_name": "Python 3 (ipykernel)",
   "language": "python",
   "name": "python3"
  },
  "language_info": {
   "codemirror_mode": {
    "name": "ipython",
    "version": 3
   },
   "file_extension": ".py",
   "mimetype": "text/x-python",
   "name": "python",
   "nbconvert_exporter": "python",
   "pygments_lexer": "ipython3",
   "version": "3.7.3"
  }
 },
 "nbformat": 4,
 "nbformat_minor": 5
}
