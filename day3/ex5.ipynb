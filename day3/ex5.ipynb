{
 "cells": [
  {
   "cell_type": "code",
   "execution_count": 7,
   "id": "0a900ca2",
   "metadata": {},
   "outputs": [
    {
     "name": "stdout",
     "output_type": "stream",
     "text": [
      "Enter a number6\n",
      "medium\n"
     ]
    }
   ],
   "source": [
    "\"\"\"if..elif..else\"\"\"\n",
    "\"\"\"input is a built-in function, for reading from keyboard. string is the default datatype when reading from keyboard\"\"\"\n",
    "num = int(input(\"Enter a number\"))\n",
    "# assume the input is a proper number\n",
    "# using if..else\n",
    "if num<0:\n",
    "    print(\"negative\")\n",
    "elif num==0:\n",
    "    print(\"zero\")\n",
    "elif num>0 and num<10:\n",
    "    print(\"medium\")\n",
    "else:\n",
    "    print(\"positive\")"
   ]
  },
  {
   "cell_type": "code",
   "execution_count": 9,
   "id": "70bcd14a",
   "metadata": {},
   "outputs": [
    {
     "name": "stdout",
     "output_type": "stream",
     "text": [
      "0\n",
      "1\n",
      "2\n",
      "3\n",
      "4\n"
     ]
    }
   ],
   "source": [
    "# for .. else\n",
    "# else part will be executed only after all iterations\n",
    "for num in range(10):\n",
    "    if num==5:\n",
    "        break\n",
    "    print(num)\n",
    "else:\n",
    "    print(\"all iterations completed\")"
   ]
  },
  {
   "cell_type": "code",
   "execution_count": 15,
   "id": "e9dac3b0",
   "metadata": {},
   "outputs": [
    {
     "name": "stdout",
     "output_type": "stream",
     "text": [
      "Enter a number21\n",
      "21 is not prime\n"
     ]
    }
   ],
   "source": [
    "# check if the given number is prime\n",
    "\n",
    "num = int(input(\"Enter a number\"))\n",
    "\n",
    "#flag = 0\n",
    "\n",
    "for n in range(2,(num//2+1)): # if num=11 the numbers generated will be 2,3,4,5,6,7,8,9,10\n",
    "    if num%n==0:\n",
    "        #flag=1\n",
    "        print(f\"{num} is not prime\")\n",
    "        break\n",
    "else:\n",
    "    print(f\"{num} is prime\")\n",
    "\n",
    "#if flag:\n",
    "#    print(f\"{num} is not prime\")\n",
    "#else:\n",
    "#    print(f\"{num} is prime\")"
   ]
  },
  {
   "cell_type": "code",
   "execution_count": 18,
   "id": "63562f8e",
   "metadata": {},
   "outputs": [
    {
     "name": "stdout",
     "output_type": "stream",
     "text": [
      "1\n",
      "2\n",
      "3\n",
      "4\n",
      "6\n",
      "7\n",
      "8\n",
      "9\n",
      "10\n",
      "all iterations completed\n"
     ]
    }
   ],
   "source": [
    "# while .. else\n",
    "\n",
    "count = 0\n",
    "\n",
    "#flag = 1\n",
    "#if not flag\n",
    "\n",
    "#if flag\n",
    "\n",
    "while count < 10:\n",
    "    count += 1\n",
    "    if count == 5:\n",
    "        #break\n",
    "        continue # skips one loop\n",
    "    print(count)\n",
    "else:\n",
    "    print(\"all iterations completed\")"
   ]
  },
  {
   "cell_type": "code",
   "execution_count": 22,
   "id": "76132a37",
   "metadata": {},
   "outputs": [
    {
     "name": "stdout",
     "output_type": "stream",
     "text": [
      "Enter a numberhello\n",
      "script continues here ...\n"
     ]
    }
   ],
   "source": [
    "# pass -  be quiet. do not take any action\n",
    "try:\n",
    "    num = int(input(\"Enter a number\")) # results in error if input is not an integer\n",
    "    print(num)\n",
    "except:\n",
    "    pass\n",
    "    #print(\"some error\")\n",
    "\n",
    "print(\"script continues here ...\")\n"
   ]
  },
  {
   "cell_type": "code",
   "execution_count": null,
   "id": "9f1b88a1",
   "metadata": {},
   "outputs": [],
   "source": []
  }
 ],
 "metadata": {
  "kernelspec": {
   "display_name": "Python 3 (ipykernel)",
   "language": "python",
   "name": "python3"
  },
  "language_info": {
   "codemirror_mode": {
    "name": "ipython",
    "version": 3
   },
   "file_extension": ".py",
   "mimetype": "text/x-python",
   "name": "python",
   "nbconvert_exporter": "python",
   "pygments_lexer": "ipython3",
   "version": "3.7.3"
  }
 },
 "nbformat": 4,
 "nbformat_minor": 5
}
