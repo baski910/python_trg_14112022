{
 "cells": [
  {
   "cell_type": "code",
   "execution_count": 7,
   "id": "22d8d74e",
   "metadata": {},
   "outputs": [
    {
     "name": "stdout",
     "output_type": "stream",
     "text": [
      "Enter a number6\n",
      "medium\n"
     ]
    }
   ],
   "source": [
    "\"\"\"if..elif..else\"\"\"\n",
    "\"\"\"input is a built-in function, for reading from keyboard. string is the default datatype when reading from keyboard\"\"\"\n",
    "num = int(input(\"Enter a number\"))\n",
    "# assume the input is a proper number\n",
    "# using if..else\n",
    "if num<0:\n",
    "    print(\"negative\")\n",
    "elif num==0:\n",
    "    print(\"zero\")\n",
    "elif num>0 and num<10:\n",
    "    print(\"medium\")\n",
    "else:\n",
    "    print(\"positive\")"
   ]
  },
  {
   "cell_type": "code",
   "execution_count": 9,
   "id": "9501f336",
   "metadata": {},
   "outputs": [
    {
     "name": "stdout",
     "output_type": "stream",
     "text": [
      "0\n",
      "1\n",
      "2\n",
      "3\n",
      "4\n"
     ]
    }
   ],
   "source": [
    "# for .. else\n",
    "# else part will be executed only after all iterations\n",
    "for num in range(10):\n",
    "    if num==5:\n",
    "        break\n",
    "    print(num)\n",
    "else:\n",
    "    print(\"all iterations completed\")"
   ]
  },
  {
   "cell_type": "code",
   "execution_count": 15,
   "id": "1c220c19",
   "metadata": {},
   "outputs": [
    {
     "name": "stdout",
     "output_type": "stream",
     "text": [
      "Enter a number21\n",
      "21 is not prime\n"
     ]
    }
   ],
   "source": [
    "# check if the given number is prime\n",
    "\n",
    "num = int(input(\"Enter a number\"))\n",
    "\n",
    "#flag = 0\n",
    "\n",
    "for n in range(2,(num//2+1)): # if num=11 the numbers generated will be 2,3,4,5,6,7,8,9,10\n",
    "    if num%n==0:\n",
    "        #flag=1\n",
    "        print(f\"{num} is not prime\")\n",
    "        break\n",
    "else:\n",
    "    print(f\"{num} is prime\")\n",
    "\n",
    "#if flag:\n",
    "#    print(f\"{num} is not prime\")\n",
    "#else:\n",
    "#    print(f\"{num} is prime\")"
   ]
  },
  {
   "cell_type": "code",
   "execution_count": 17,
   "id": "0db8c8ac",
   "metadata": {},
   "outputs": [
    {
     "name": "stdout",
     "output_type": "stream",
     "text": [
      "1\n",
      "2\n",
      "3\n",
      "4\n"
     ]
    }
   ],
   "source": [
    "# while .. else\n",
    "\n",
    "count = 0\n",
    "\n",
    "while count < 10:\n",
    "    count += 1\n",
    "    if count == 5:\n",
    "        break\n",
    "    print(count)\n",
    "else:\n",
    "    print(\"all iterations completed\")"
   ]
  },
  {
   "cell_type": "code",
   "execution_count": null,
   "id": "4c8a12d0",
   "metadata": {},
   "outputs": [],
   "source": []
  }
 ],
 "metadata": {
  "kernelspec": {
   "display_name": "Python 3 (ipykernel)",
   "language": "python",
   "name": "python3"
  },
  "language_info": {
   "codemirror_mode": {
    "name": "ipython",
    "version": 3
   },
   "file_extension": ".py",
   "mimetype": "text/x-python",
   "name": "python",
   "nbconvert_exporter": "python",
   "pygments_lexer": "ipython3",
   "version": "3.7.3"
  }
 },
 "nbformat": 4,
 "nbformat_minor": 5
}
