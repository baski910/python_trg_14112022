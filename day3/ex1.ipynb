{
 "cells": [
  {
   "cell_type": "code",
   "execution_count": 2,
   "id": "7f090527",
   "metadata": {},
   "outputs": [
    {
     "name": "stdout",
     "output_type": "stream",
     "text": [
      "{'name': 'alice', 'age': 7, 'class': 'first', 'school': 'cps school', 'rank': 'second'}\n",
      "The value against the key removed: cps school\n",
      "{'name': 'alice', 'age': 7, 'class': 'first', 'rank': 'second'}\n"
     ]
    }
   ],
   "source": [
    "# pop - takes dictionary key as argument and removes the key and value pair\n",
    "#       returns the value removed\n",
    "\n",
    "d1 = {'name':'alice','age':7,'class':'first','school': 'cps school','rank':'second'} \n",
    "\n",
    "print(d1)\n",
    "\n",
    "# remove the key and value pair 'school': 'cps school'\n",
    "value = d1.pop('school')\n",
    "\n",
    "print(\"The value against the key removed:\",value)\n",
    "print(d1)"
   ]
  },
  {
   "cell_type": "code",
   "execution_count": 3,
   "id": "b1fd6a91",
   "metadata": {},
   "outputs": [
    {
     "name": "stdout",
     "output_type": "stream",
     "text": [
      "{'name': 'alice', 'age': 7, 'class': 'first', 'school': 'cps school', 'rank': 'second'}\n",
      "{}\n"
     ]
    }
   ],
   "source": [
    "# clear - removes all items from a dictionary\n",
    "d1 = {'name':'alice','age':7,'class':'first','school': 'cps school','rank':'second'} \n",
    "\n",
    "print(d1)\n",
    "\n",
    "d1.clear()\n",
    "\n",
    "print(d1)"
   ]
  },
  {
   "cell_type": "code",
   "execution_count": null,
   "id": "a930ab01",
   "metadata": {},
   "outputs": [],
   "source": []
  }
 ],
 "metadata": {
  "kernelspec": {
   "display_name": "Python 3 (ipykernel)",
   "language": "python",
   "name": "python3"
  },
  "language_info": {
   "codemirror_mode": {
    "name": "ipython",
    "version": 3
   },
   "file_extension": ".py",
   "mimetype": "text/x-python",
   "name": "python",
   "nbconvert_exporter": "python",
   "pygments_lexer": "ipython3",
   "version": "3.7.3"
  }
 },
 "nbformat": 4,
 "nbformat_minor": 5
}
