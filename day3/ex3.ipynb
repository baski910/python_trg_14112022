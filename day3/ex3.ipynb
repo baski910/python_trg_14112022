{
 "cells": [
  {
   "cell_type": "code",
   "execution_count": null,
   "id": "30a29241",
   "metadata": {},
   "outputs": [],
   "source": [
    "#get - takes key name as argument, optionally takes default value as second argument.\n",
    "#Returns the value against the key if the key is present, otherwise returns the second argument\n",
    "#or None\n",
    "#setdefault - takes 2 arguments. 1st parameter is the key and 2nd parameter is the value\n",
    "#Create a new key and value pair, if the key is not existing. No action taken if the key is already existing\n",
    "#dict - takes a list as argument and converts it to dictionary. The list should conform to\n",
    "#some format. Each element of the list should be a tuple with only 2 elements. The 1st element\n",
    "#of each tuple will be treated as dictionary key and the 2nd element treated as value\n",
    "#zip - takes 2 lists as argument and a returns a zip object with each element as tuple,\n",
    "#which can be type casted to a list or dictionary. It takes the elements using corresponding index\n",
    "#and forms the resulting zip object"
   ]
  },
  {
   "cell_type": "code",
   "execution_count": 4,
   "id": "1c83a3d7",
   "metadata": {},
   "outputs": [
    {
     "name": "stdout",
     "output_type": "stream",
     "text": [
      "alice\n",
      "None\n",
      "Not found\n",
      "alice\n"
     ]
    }
   ],
   "source": [
    "\"\"\"Examples for get\"\"\"\n",
    "\n",
    "d1 = {'name':'alice','age':7,'class':'first'}\n",
    "\n",
    "print(d1['name']) # output will be alice\n",
    "\n",
    "#print(d1['lname']) # throws error as the key 'lname' is not existing\n",
    "\n",
    "print(d1.get('lname')) # returns None if the key 'lname' is not existing\n",
    "print(d1.get('lname','Not found')) # returns 2nd argument if key is not existing\n",
    "print(d1.get('name','Not found')) # returns 2nd argument if key is not existing"
   ]
  },
  {
   "cell_type": "code",
   "execution_count": 6,
   "id": "cb3f32b0",
   "metadata": {},
   "outputs": [
    {
     "name": "stdout",
     "output_type": "stream",
     "text": [
      "{'name': 'alice', 'age': 7, 'class': 'first', 'rank': 'second'}\n",
      "{'name': 'alice', 'age': 7, 'class': 'first', 'rank': 'second'}\n"
     ]
    }
   ],
   "source": [
    "\"\"\"Example for setdefault\"\"\"\n",
    "\n",
    "d1 = {'name':'alice','age':7,'class':'first'}\n",
    "\n",
    "d1.setdefault('rank','second') # creates a key named 'rank' and sets the value as 'second'\n",
    "\n",
    "print(d1) \n",
    "\n",
    "d1.setdefault('name','bob') # as the key is already existing no action will be take\n",
    "\n",
    "print(d1)"
   ]
  },
  {
   "cell_type": "code",
   "execution_count": 7,
   "id": "612b71da",
   "metadata": {},
   "outputs": [
    {
     "name": "stdout",
     "output_type": "stream",
     "text": [
      "{'name': 'alice', 'age': 7, 'class': 'first'}\n"
     ]
    }
   ],
   "source": [
    "\"\"\"Example for dict\"\"\"\n",
    "\n",
    "list1=[('name','alice'),('age',7),('class','first')]\n",
    "\n",
    "d1 = dict(list1) # returns a dictionary\n",
    "\n",
    "print(d1)"
   ]
  },
  {
   "cell_type": "code",
   "execution_count": 10,
   "id": "a06e9dea",
   "metadata": {},
   "outputs": [
    {
     "name": "stdout",
     "output_type": "stream",
     "text": [
      "[('name', 'alice'), ('age', 7), ('class', 'first')]\n",
      "{'name': 'alice', 'age': 7, 'class': 'first'}\n"
     ]
    }
   ],
   "source": [
    "\"\"\"using zip function to form list of tuples\"\"\"\n",
    "\n",
    "list2 = ['name','age','class','rank']\n",
    "list3 = ['alice',7,'first']\n",
    "\n",
    "list4 = list(zip(list2,list3))\n",
    "\n",
    "print(list4)\n",
    "\n",
    "d2 = dict(zip(list2,list3))\n",
    "\n",
    "print(d2)"
   ]
  },
  {
   "cell_type": "code",
   "execution_count": 21,
   "id": "610935a8",
   "metadata": {},
   "outputs": [
    {
     "name": "stdout",
     "output_type": "stream",
     "text": [
      "['name', 'mark', 'subject']\n",
      "{'s1': {'name': 'bob', 'mark': '83', 'subject': 'maths'}, 's2': {'name': 'tom', 'mark': '76', 'subject': 'science'}, 's3': {'name': 'joe', 'mark': '81', 'subject': 'english'}}\n"
     ]
    }
   ],
   "source": [
    "# s2 =  \"name,mark,subject\\nbob,83,maths\\ntom,76,science\\njoe,81,english\"\n",
    "# d1 = {'s1': {'name':'bob','mark':'83','subject':'maths'},'s2': {...}}\n",
    "\n",
    "s2 = \"name,mark,subject\\nbob,83,maths\\ntom,76,science\\njoe,81,english\"\n",
    "\n",
    "d1 = {}\n",
    "\n",
    "data = s2.split('\\n')\n",
    "\n",
    "#print(data)\n",
    "\n",
    "header = data[0].split(',')\n",
    "\n",
    "print(header)\n",
    "\n",
    "for num,element in enumerate(data[1:],1):\n",
    "    key = f\"s{num}\"\n",
    "    p = element.split(',')\n",
    "    d2 =  dict(zip(header,p))\n",
    "    d1.setdefault(key,d2)\n",
    "    #print(key, d2)\n",
    "print(d1)"
   ]
  },
  {
   "cell_type": "code",
   "execution_count": null,
   "id": "0b808f71",
   "metadata": {},
   "outputs": [],
   "source": []
  }
 ],
 "metadata": {
  "kernelspec": {
   "display_name": "Python 3 (ipykernel)",
   "language": "python",
   "name": "python3"
  },
  "language_info": {
   "codemirror_mode": {
    "name": "ipython",
    "version": 3
   },
   "file_extension": ".py",
   "mimetype": "text/x-python",
   "name": "python",
   "nbconvert_exporter": "python",
   "pygments_lexer": "ipython3",
   "version": "3.7.3"
  }
 },
 "nbformat": 4,
 "nbformat_minor": 5
}
