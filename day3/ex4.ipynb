{
 "cells": [
  {
   "cell_type": "code",
   "execution_count": 3,
   "id": "81a38f19",
   "metadata": {},
   "outputs": [
    {
     "name": "stdout",
     "output_type": "stream",
     "text": [
      "<class 'str'>\n",
      "<class 'dict'>\n"
     ]
    }
   ],
   "source": [
    "import json\n",
    "s1 = '{\"name\":\"alice\",\"age\":7,\"class\":\"first\"}'\n",
    "\n",
    "print(type(s1))\n",
    "\n",
    "d1 = json.loads(s1)\n",
    "\n",
    "print(type(d1))"
   ]
  },
  {
   "cell_type": "code",
   "execution_count": 6,
   "id": "a6d23f38",
   "metadata": {},
   "outputs": [
    {
     "name": "stdout",
     "output_type": "stream",
     "text": [
      "Enter your citynamebangalore\n",
      "{'coord': {'lon': 77.6033, 'lat': 12.9762}, 'weather': [{'id': 802, 'main': 'Clouds', 'description': 'scattered clouds', 'icon': '03n'}], 'base': 'stations', 'main': {'temp': 297.95, 'feels_like': 298.18, 'temp_min': 297.05, 'temp_max': 297.95, 'pressure': 1014, 'humidity': 65}, 'visibility': 6000, 'wind': {'speed': 2.06, 'deg': 20}, 'clouds': {'all': 40}, 'dt': 1668603451, 'sys': {'type': 1, 'id': 9205, 'country': 'IN', 'sunrise': 1668559720, 'sunset': 1668601210}, 'timezone': 19800, 'id': 1277333, 'name': 'Bengaluru', 'cod': 200}\n",
      "The temperature at bangalore is 24.80 celsius\n"
     ]
    }
   ],
   "source": [
    "#fh = open('api_key','r')\n",
    "\n",
    "#APIKEY=fh.readline().strip() # replace API_KEY with your own api key\n",
    "\n",
    "#fh.close()\n",
    "\n",
    "\n",
    "\n",
    "import requests\n",
    "import json\n",
    "\n",
    "city_name=input(\"Enter your cityname\")\n",
    "\n",
    "\n",
    "r = requests.get(\"https://api.openweathermap.org/data/2.5/weather?q={}&appid={}\".format(city_name,APIKEY))\n",
    "\n",
    "#r = requests.get(\"https://api.openweathermap.org/data/2.5/weather?q=\"+city_name+\"&appid=\"+APIKEY)\n",
    "\n",
    "if r.status_code==200:\n",
    "    d1 = json.loads(r.text) # r.text - text value returned from rest end point\n",
    "    print(d1)\n",
    "    city_temp = d1.get('main').get('temp')-273.15 # d1['main']['temp']\n",
    "    print(\"The temperature at %s is %.2f celsius\" %(city_name,city_temp))\n",
    "else:\n",
    "    print(\"problem in getting weather information\")"
   ]
  },
  {
   "cell_type": "code",
   "execution_count": null,
   "id": "86479f6b",
   "metadata": {},
   "outputs": [],
   "source": []
  }
 ],
 "metadata": {
  "kernelspec": {
   "display_name": "Python 3 (ipykernel)",
   "language": "python",
   "name": "python3"
  },
  "language_info": {
   "codemirror_mode": {
    "name": "ipython",
    "version": 3
   },
   "file_extension": ".py",
   "mimetype": "text/x-python",
   "name": "python",
   "nbconvert_exporter": "python",
   "pygments_lexer": "ipython3",
   "version": "3.7.3"
  }
 },
 "nbformat": 4,
 "nbformat_minor": 5
}
