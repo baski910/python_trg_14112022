{
 "cells": [
  {
   "cell_type": "code",
   "execution_count": 1,
   "id": "23fd9b66",
   "metadata": {},
   "outputs": [],
   "source": [
    "# You can define functions to provide the required functionality. Here are simple rules to define a function in Python.\n",
    "\n",
    "#Function blocks begin with the keyword def followed by the function name and parentheses ( ( ) ).\n",
    "\n",
    "#Any input parameters or arguments should be placed within these parentheses. You can also define parameters inside these parentheses.\n",
    "\n",
    "#The first statement of a function can be an optional statement - the documentation string of the function or docstring.\n",
    "\n",
    "#The code block within every function starts with a colon (:) and is indented.\n",
    "\n",
    "#The statement return [expression] exits a function, optionally passing back an expression to the caller. A return statement with no arguments is the same as return None.\n"
   ]
  },
  {
   "cell_type": "code",
   "execution_count": 2,
   "id": "e5231eed",
   "metadata": {},
   "outputs": [
    {
     "name": "stdout",
     "output_type": "stream",
     "text": [
      "a line outside the function\n",
      "helloworld\n",
      "this line is part of the function\n",
      "helloworld\n",
      "this line is part of the function\n"
     ]
    }
   ],
   "source": [
    "\"\"\"Examples for functions\"\"\"\n",
    "\n",
    "def sayHello():\n",
    "    \"\"\"this is an example function\"\"\"\n",
    "    print(\"helloworld\")\n",
    "    print(\"this line is part of the function\")\n",
    "print(\"a line outside the function\")\n",
    "\n",
    "sayHello()\n",
    "sayHello()"
   ]
  },
  {
   "cell_type": "code",
   "execution_count": null,
   "id": "aa0a846c",
   "metadata": {},
   "outputs": [],
   "source": [
    "#Required - The parameter must be passed in the function call. Omiting the parameter leads to error\n",
    "#Keyword - The parameters are considered as keywords and can be passed in different order\n",
    "#Default - The parameter is assigned value in the function definition. Can be omitted during function call\n",
    "#Variable length - Unknown number of arguments"
   ]
  },
  {
   "cell_type": "code",
   "execution_count": 4,
   "id": "3f3873e3",
   "metadata": {},
   "outputs": [
    {
     "name": "stdout",
     "output_type": "stream",
     "text": [
      "h\n"
     ]
    }
   ],
   "source": [
    "def echo(n): # 'n' is a required parameter\n",
    "    print(n)\n",
    "    \n",
    "# function call without parameter leads to error.\n",
    "# the parameter is required and can not be omitted\n",
    "echo()"
   ]
  },
  {
   "cell_type": "code",
   "execution_count": 12,
   "id": "7496ffa3",
   "metadata": {},
   "outputs": [
    {
     "name": "stdout",
     "output_type": "stream",
     "text": [
      "Name: krish\n",
      "Age: 12\n",
      "Name: raj\n",
      "Age: 20\n",
      "Name: ravi\n",
      "Age: 21\n"
     ]
    }
   ],
   "source": [
    "def display(name,age):\n",
    "    #pass\n",
    "    for n,a in zip(name,age):\n",
    "        print(\"Name: {}\".format(n)) \n",
    "        print(\"Age: {}\".format(a))\n",
    "\n",
    "# The parameters can be treated as keyword in function call\n",
    "# and passing order can be modified\n",
    "\n",
    "#display('krish',12)\n",
    "#display(12,'krish') # passing the parameter in modified order may not give expected results\n",
    "display(age=[12,20,21],name=['krish','raj','ravi'])\n",
    "\n",
    "#display(age=12,name='krish')"
   ]
  },
  {
   "cell_type": "code",
   "execution_count": 15,
   "id": "cf980548",
   "metadata": {},
   "outputs": [
    {
     "name": "stdout",
     "output_type": "stream",
     "text": [
      "360.0\n",
      "240.0\n"
     ]
    }
   ],
   "source": [
    "# in the below function parameter 'r' is assgined value in the function definition and is\n",
    "# called as default argument.\n",
    "def calculateinterest(p,n,r=12):\n",
    "#def calculateinterest(p,r=12,n): # results in error when non-default argument follows default argument\n",
    "    return p*n*r/100\n",
    "\n",
    "# no need of including default argument in the function call\n",
    "total = calculateinterest(1000,3) # the value for 'r' is 12\n",
    "print(total)\n",
    "\n",
    "# The value provided for default argument is considered in function call (or) default value is overwritten\n",
    "total = calculateinterest(1000,3,8) # the value for 'r' is 8\n",
    "print(total)"
   ]
  },
  {
   "cell_type": "code",
   "execution_count": 17,
   "id": "56327ca8",
   "metadata": {},
   "outputs": [
    {
     "name": "stdout",
     "output_type": "stream",
     "text": [
      "745\n",
      "912\n"
     ]
    }
   ],
   "source": [
    "# passing unknown number of parameters to a function (or) variable number of arguments\n",
    "# find the maximum out of the numbers passed. (we could even use 'max' to achieve the same).\n",
    "# this is an example for passing variable number of arguments\n",
    "def find_max(*args): # '*' - refers unknown number of parameters\n",
    "    # args inside the function is treated as tuple\n",
    "    #print(args)\n",
    "    m = args[0]\n",
    "    \n",
    "    for v in args:\n",
    "        if m<v: \n",
    "            m=v\n",
    "    return m\n",
    "    \n",
    "#find_max()\n",
    "\n",
    "maxval = find_max(84,51,28,90,745,612,390,56)\n",
    "\n",
    "print(maxval)\n",
    "\n",
    "maxval = find_max(84,51,28,90,745,612,390,56,912,478,206)\n",
    "\n",
    "print(maxval)"
   ]
  },
  {
   "cell_type": "code",
   "execution_count": 18,
   "id": "140708e6",
   "metadata": {},
   "outputs": [
    {
     "name": "stdout",
     "output_type": "stream",
     "text": [
      "{'name': 'alice', 'age': 7, 'school': 'cps school'}\n"
     ]
    }
   ],
   "source": [
    "# unknown number of key and value pair\n",
    "def showValues(**kwargs):\n",
    "    # inside the function kwargs is treated as dictionary\n",
    "    print(kwargs)\n",
    "    \n",
    "showValues(name='alice',age=7,school='cps school')"
   ]
  },
  {
   "cell_type": "code",
   "execution_count": null,
   "id": "87041977",
   "metadata": {},
   "outputs": [],
   "source": []
  }
 ],
 "metadata": {
  "kernelspec": {
   "display_name": "Python 3 (ipykernel)",
   "language": "python",
   "name": "python3"
  },
  "language_info": {
   "codemirror_mode": {
    "name": "ipython",
    "version": 3
   },
   "file_extension": ".py",
   "mimetype": "text/x-python",
   "name": "python",
   "nbconvert_exporter": "python",
   "pygments_lexer": "ipython3",
   "version": "3.7.3"
  }
 },
 "nbformat": 4,
 "nbformat_minor": 5
}
