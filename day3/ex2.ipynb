{
 "cells": [
  {
   "cell_type": "code",
   "execution_count": null,
   "id": "35c8e9a0",
   "metadata": {},
   "outputs": [],
   "source": [
    "#items - is a dictionary function returns key and value as a tuple in each iteration\n",
    "#keys - is a dictionary function returns all keys in a dictionary as a sequence\n",
    "#values - is a dictionary function returs all values in a dictionary as a sequence"
   ]
  },
  {
   "cell_type": "code",
   "execution_count": 5,
   "id": "0640566a",
   "metadata": {},
   "outputs": [
    {
     "name": "stdout",
     "output_type": "stream",
     "text": [
      "name = alice\n",
      "age = 7\n",
      "class = first\n",
      "school = cps school\n",
      "rank = second\n",
      "<class 'tuple'>\n"
     ]
    }
   ],
   "source": [
    "d1 = {'name':'alice','age':7,'class':'first','school': 'cps school','rank':'second'} \n",
    "\n",
    "#k,v=1,2\n",
    "\n",
    "for k,v in d1.items():\n",
    "    print(k,\"=\",v)\n",
    "#print(type(x))"
   ]
  },
  {
   "cell_type": "code",
   "execution_count": 3,
   "id": "7f63d27a",
   "metadata": {},
   "outputs": [
    {
     "name": "stdout",
     "output_type": "stream",
     "text": [
      "name = alice\n",
      "age = 7\n",
      "class = first\n",
      "school = cps school\n",
      "rank = second\n"
     ]
    }
   ],
   "source": [
    "for k in d1.keys(): # ['name','age','class',...]\n",
    "    print(k,\"=\",d1[k])"
   ]
  },
  {
   "cell_type": "code",
   "execution_count": 6,
   "id": "c5cde635",
   "metadata": {},
   "outputs": [
    {
     "name": "stdout",
     "output_type": "stream",
     "text": [
      "alice\n",
      "7\n",
      "first\n",
      "cps school\n",
      "second\n"
     ]
    }
   ],
   "source": [
    "for v in d1.values():\n",
    "    print(v)"
   ]
  },
  {
   "cell_type": "code",
   "execution_count": null,
   "id": "c26cd992",
   "metadata": {},
   "outputs": [],
   "source": []
  }
 ],
 "metadata": {
  "kernelspec": {
   "display_name": "Python 3 (ipykernel)",
   "language": "python",
   "name": "python3"
  },
  "language_info": {
   "codemirror_mode": {
    "name": "ipython",
    "version": 3
   },
   "file_extension": ".py",
   "mimetype": "text/x-python",
   "name": "python",
   "nbconvert_exporter": "python",
   "pygments_lexer": "ipython3",
   "version": "3.7.3"
  }
 },
 "nbformat": 4,
 "nbformat_minor": 5
}
