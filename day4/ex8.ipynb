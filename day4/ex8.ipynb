{
 "cells": [
  {
   "cell_type": "code",
   "execution_count": null,
   "id": "a8ae9235",
   "metadata": {},
   "outputs": [],
   "source": [
    "fh = open('demo_2.jpg','rb')\n",
    "oh = open('backup_demo.jpg', 'wb')\n",
    "content = fh.read()\n",
    "oh.write(content)\n",
    "\n",
    "fh.close()\n",
    "oh.close()\n"
   ]
  }
 ],
 "metadata": {
  "kernelspec": {
   "display_name": "Python 3 (ipykernel)",
   "language": "python",
   "name": "python3"
  },
  "language_info": {
   "codemirror_mode": {
    "name": "ipython",
    "version": 3
   },
   "file_extension": ".py",
   "mimetype": "text/x-python",
   "name": "python",
   "nbconvert_exporter": "python",
   "pygments_lexer": "ipython3",
   "version": "3.7.3"
  }
 },
 "nbformat": 4,
 "nbformat_minor": 5
}
