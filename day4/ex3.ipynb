{
 "cells": [
  {
   "cell_type": "code",
   "execution_count": 1,
   "id": "3c677b90",
   "metadata": {},
   "outputs": [
    {
     "name": "stdout",
     "output_type": "stream",
     "text": [
      "inside function: 15\n",
      "outside function: 20\n"
     ]
    }
   ],
   "source": [
    "\"\"\"Example for variable with local scope\"\"\"\n",
    "\n",
    "x=20 # has a global scope\n",
    "\n",
    "def f():\n",
    "    x=15\n",
    "    print(\"inside function:\",x) # accessing the local variable, as 'x' got redefined inside the function\n",
    "    \n",
    "f()\n",
    "\n",
    "print(\"outside function:\",x) "
   ]
  },
  {
   "cell_type": "code",
   "execution_count": null,
   "id": "fa4867b8",
   "metadata": {},
   "outputs": [],
   "source": []
  }
 ],
 "metadata": {
  "kernelspec": {
   "display_name": "Python 3 (ipykernel)",
   "language": "python",
   "name": "python3"
  },
  "language_info": {
   "codemirror_mode": {
    "name": "ipython",
    "version": 3
   },
   "file_extension": ".py",
   "mimetype": "text/x-python",
   "name": "python",
   "nbconvert_exporter": "python",
   "pygments_lexer": "ipython3",
   "version": "3.7.3"
  }
 },
 "nbformat": 4,
 "nbformat_minor": 5
}
