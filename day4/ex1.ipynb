{
 "cells": [
  {
   "cell_type": "code",
   "execution_count": 1,
   "id": "b5995c81",
   "metadata": {},
   "outputs": [
    {
     "name": "stdout",
     "output_type": "stream",
     "text": [
      "<function <lambda> at 0x7f406c32c400>\n",
      "64\n"
     ]
    }
   ],
   "source": [
    "\"\"\"Examples for lambda function\"\"\"\n",
    "\n",
    "# defining a lambda function\n",
    "ref2 = lambda x: x*x\n",
    "\n",
    "# now ref2 has the reference of lambda\n",
    "print(ref2) # lambda function reference in hexadecimal form\n",
    "\n",
    "# calling the lambda function\n",
    "num = ref2(8) # output will be 64"
   ]
  },
  {
   "cell_type": "code",
   "execution_count": 2,
   "id": "f325d504",
   "metadata": {},
   "outputs": [],
   "source": [
    "#filter is used for extracting elements from a sequence using a criterion/criteria\n",
    "\n",
    "#map is used for transforming a sequence from one form to another\n",
    "\n",
    "#filter - Takes 2 arguments. Returns a filter object which can be type casted to a list\n",
    "#1st param is a function reference. The function returns either True of False\n",
    "#2nd param is a sequence (or) sequences\n",
    "#Passes the element(s) from the sequence to the function referred by 1st param\n",
    "#the element is added to filter object if the function returns True\n",
    "#map - Takes 2 arguments. Returns a filter object which can be type casted to a list\n",
    "#1st param is a function reference.\n",
    "#2nd param is a sequence (or) sequences\n",
    "#Passes the element(s) from the sequence to the function referred by 1st param\n",
    "#the return value of the function is added to map object"
   ]
  },
  {
   "cell_type": "code",
   "execution_count": 7,
   "id": "1fd3735f",
   "metadata": {},
   "outputs": [
    {
     "name": "stdout",
     "output_type": "stream",
     "text": [
      "[25, 36, 71, 50]\n"
     ]
    }
   ],
   "source": [
    "\"\"\"Example for filter\"\"\"\n",
    "\n",
    "numbers = [12,8,25,36,71,50]\n",
    "\n",
    "def f(x):\n",
    "    return x>20\n",
    "\n",
    "# filter using custom function\n",
    "even_numbers = list(filter(f,numbers)) # numbers = [0,1,2,3,4,5..]\n",
    "\n",
    "print(even_numbers)"
   ]
  },
  {
   "cell_type": "code",
   "execution_count": 5,
   "id": "e12201b9",
   "metadata": {},
   "outputs": [
    {
     "name": "stdout",
     "output_type": "stream",
     "text": [
      "[0, 2, 4, 6, 8, 10, 12, 14, 16, 18, 20, 22, 24, 26, 28, 30, 32, 34, 36, 38, 40, 42, 44, 46, 48, 50, 52, 54, 56, 58, 60, 62, 64, 66, 68, 70, 72, 74, 76, 78, 80, 82, 84, 86, 88, 90, 92, 94, 96, 98]\n"
     ]
    }
   ],
   "source": [
    "\"\"\"Example for filter using lambda\"\"\"\n",
    "\n",
    "numbers = [x for x in range(100)]\n",
    "\n",
    "#def f(x):\n",
    "#    return x%2==0\n",
    "\n",
    "# filter using custom function\n",
    "even_numbers = list(filter(lambda x: x%2==0,numbers))\n",
    "\n",
    "print(even_numbers)"
   ]
  },
  {
   "cell_type": "code",
   "execution_count": 6,
   "id": "25fbcb11",
   "metadata": {},
   "outputs": [
    {
     "name": "stdout",
     "output_type": "stream",
     "text": [
      "[0, 1, 4, 9, 16, 25, 36, 49, 64, 81, 100, 121, 144, 169, 196, 225, 256, 289, 324, 361, 400, 441, 484, 529, 576, 625, 676, 729, 784, 841, 900, 961, 1024, 1089, 1156, 1225, 1296, 1369, 1444, 1521, 1600, 1681, 1764, 1849, 1936, 2025, 2116, 2209, 2304, 2401]\n"
     ]
    }
   ],
   "source": [
    "\"\"\"Example for map\"\"\"\n",
    "\n",
    "numbers = [x for x in range(50)]\n",
    "\n",
    "def square(x):\n",
    "    return x*x\n",
    "\n",
    "# map using custom function\n",
    "square_numbers = list(map(square,numbers)) # numbers = [0,1,2,3,4,5]\n",
    "\n",
    "print(square_numbers)"
   ]
  },
  {
   "cell_type": "code",
   "execution_count": 9,
   "id": "a3e59ec8",
   "metadata": {},
   "outputs": [
    {
     "name": "stdout",
     "output_type": "stream",
     "text": [
      "[0, 1, 4, 9, 16, 25, 36, 49, 64, 81, 100, 121, 144, 169, 196, 225, 256, 289, 324, 361, 400, 441, 484, 529, 576, 625, 676, 729, 784, 841, 900, 961, 1024, 1089, 1156, 1225, 1296, 1369, 1444, 1521, 1600, 1681, 1764, 1849, 1936, 2025, 2116, 2209, 2304, 2401, 2500, 2601, 2704, 2809, 2916, 3025, 3136, 3249, 3364, 3481, 3600, 3721, 3844, 3969, 4096, 4225, 4356, 4489, 4624, 4761, 4900, 5041, 5184, 5329, 5476, 5625, 5776, 5929, 6084, 6241, 6400, 6561, 6724, 6889, 7056, 7225, 7396, 7569, 7744, 7921, 8100, 8281, 8464, 8649, 8836, 9025, 9216, 9409, 9604, 9801, 10000, 10201, 10404, 10609, 10816, 11025, 11236, 11449, 11664, 11881, 12100, 12321, 12544, 12769, 12996, 13225, 13456, 13689, 13924, 14161, 14400, 14641, 14884, 15129, 15376, 15625, 15876, 16129, 16384, 16641, 16900, 17161, 17424, 17689, 17956, 18225, 18496, 18769, 19044, 19321, 19600, 19881, 20164, 20449, 20736, 21025, 21316, 21609, 21904, 22201]\n"
     ]
    }
   ],
   "source": [
    "\"\"\"Example for map using lamda\"\"\"\n",
    "\n",
    "numbers = [x for x in range(150)]\n",
    "\n",
    "#def square(x):\n",
    "#    return x*x\n",
    "\n",
    "# map using custom function\n",
    "square_numbers = list(map(lambda x: x*x,numbers)) # numbers = [0,1,2,3,4,5]\n",
    "\n",
    "print(square_numbers)"
   ]
  },
  {
   "cell_type": "code",
   "execution_count": null,
   "id": "28c82cf5",
   "metadata": {},
   "outputs": [],
   "source": []
  }
 ],
 "metadata": {
  "kernelspec": {
   "display_name": "Python 3 (ipykernel)",
   "language": "python",
   "name": "python3"
  },
  "language_info": {
   "codemirror_mode": {
    "name": "ipython",
    "version": 3
   },
   "file_extension": ".py",
   "mimetype": "text/x-python",
   "name": "python",
   "nbconvert_exporter": "python",
   "pygments_lexer": "ipython3",
   "version": "3.7.3"
  }
 },
 "nbformat": 4,
 "nbformat_minor": 5
}
