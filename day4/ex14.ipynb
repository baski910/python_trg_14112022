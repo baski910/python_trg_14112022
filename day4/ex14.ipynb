{
 "cells": [
  {
   "cell_type": "code",
   "execution_count": 1,
   "id": "ee80f408",
   "metadata": {},
   "outputs": [
    {
     "name": "stdout",
     "output_type": "stream",
     "text": [
      "calling from module: hello\n",
      "calling from module: 42\n",
      "calling from module: 5.0\n",
      "21\n",
      "6.0\n"
     ]
    }
   ],
   "source": [
    "import hello\n",
    "\n",
    "print(hello.addnum(18,3))\n",
    "print(hello.divnum(18,3))"
   ]
  },
  {
   "cell_type": "code",
   "execution_count": null,
   "id": "4a648a6e",
   "metadata": {},
   "outputs": [],
   "source": []
  }
 ],
 "metadata": {
  "kernelspec": {
   "display_name": "Python 3 (ipykernel)",
   "language": "python",
   "name": "python3"
  },
  "language_info": {
   "codemirror_mode": {
    "name": "ipython",
    "version": 3
   },
   "file_extension": ".py",
   "mimetype": "text/x-python",
   "name": "python",
   "nbconvert_exporter": "python",
   "pygments_lexer": "ipython3",
   "version": "3.7.3"
  }
 },
 "nbformat": 4,
 "nbformat_minor": 5
}
