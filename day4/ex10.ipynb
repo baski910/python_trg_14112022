{
 "cells": [
  {
   "cell_type": "code",
   "execution_count": 1,
   "id": "fa8d0716",
   "metadata": {},
   "outputs": [],
   "source": [
    "##################################################################\n",
    "# reset cursor position\n",
    "#  \n",
    "# seek - takes 2 arguments\n",
    "#        1st param - offset in terms of bytes\n",
    "#        2nd param - position based on which offset is calculated\n",
    "#                    0 - beginning\n",
    "#                    1 - current cursor position\n",
    "#                    2 - end of the file\n",
    "#\n",
    "# tell - returns the cursor position\n",
    "######################################################################"
   ]
  },
  {
   "cell_type": "code",
   "execution_count": 6,
   "id": "62db64ec",
   "metadata": {},
   "outputs": [
    {
     "name": "stdout",
     "output_type": "stream",
     "text": [
      "b'Vim f'\n",
      "current cursor position: 5\n",
      "current cursor position: 10\n",
      "b'bian\\n'\n",
      "current cursor position: 15\n"
     ]
    }
   ],
   "source": [
    "fh = open('readme.txt','rb')\n",
    "\n",
    "print(fh.read(5)) # returns 5 bytes from beginning of the file\n",
    "\n",
    "print(\"current cursor position:\",fh.tell()) # returns current cursor position\n",
    "\n",
    "#fh.seek(10,0) # move to the 10th byte. calculate from beginning of the file\n",
    "fh.seek(5,1) # move to the 10th byte. calculate from current cursor position\n",
    "\n",
    "print(\"current cursor position:\",fh.tell()) # returns current cursor position\n",
    "\n",
    "print(fh.read(5)) # returns 5 bytes from  10th byte\n",
    "\n",
    "print(\"current cursor position:\",fh.tell()) # returns current cursor position\n",
    "\n"
   ]
  },
  {
   "cell_type": "code",
   "execution_count": null,
   "id": "001b3a79",
   "metadata": {},
   "outputs": [],
   "source": []
  }
 ],
 "metadata": {
  "kernelspec": {
   "display_name": "Python 3 (ipykernel)",
   "language": "python",
   "name": "python3"
  },
  "language_info": {
   "codemirror_mode": {
    "name": "ipython",
    "version": 3
   },
   "file_extension": ".py",
   "mimetype": "text/x-python",
   "name": "python",
   "nbconvert_exporter": "python",
   "pygments_lexer": "ipython3",
   "version": "3.7.3"
  }
 },
 "nbformat": 4,
 "nbformat_minor": 5
}
