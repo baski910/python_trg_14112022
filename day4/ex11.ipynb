{
 "cells": [
  {
   "cell_type": "code",
   "execution_count": 2,
   "id": "37b8b9a0",
   "metadata": {},
   "outputs": [
    {
     "name": "stdout",
     "output_type": "stream",
     "text": [
      "['/home/baskar/pythonexamples/chapter_wise_notes/17_11_2022', '/home/baskar/venv-python37/lib/python37.zip', '/home/baskar/venv-python37/lib/python3.7', '/home/baskar/venv-python37/lib/python3.7/lib-dynload', '/usr/lib/python3.7', '', '/home/baskar/venv-python37/lib/python3.7/site-packages', '/home/baskar/venv-python37/lib/python3.7/site-packages/IPython/extensions', '/home/baskar/.ipython']\n",
      "30\n",
      "5.0\n"
     ]
    }
   ],
   "source": [
    "# use the module hello\n",
    "import hello\n",
    "import sys\n",
    "\n",
    "print(sys.path) # returns module search path i.e., list of directories where the modules will be searched for\n",
    "print(hello.addnum(25,5))\n",
    "print(hello.divnum(25,5))"
   ]
  },
  {
   "cell_type": "code",
   "execution_count": null,
   "id": "6bdca05a",
   "metadata": {},
   "outputs": [],
   "source": []
  }
 ],
 "metadata": {
  "kernelspec": {
   "display_name": "Python 3 (ipykernel)",
   "language": "python",
   "name": "python3"
  },
  "language_info": {
   "codemirror_mode": {
    "name": "ipython",
    "version": 3
   },
   "file_extension": ".py",
   "mimetype": "text/x-python",
   "name": "python",
   "nbconvert_exporter": "python",
   "pygments_lexer": "ipython3",
   "version": "3.7.3"
  }
 },
 "nbformat": 4,
 "nbformat_minor": 5
}
