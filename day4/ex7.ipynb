{
 "cells": [
  {
   "cell_type": "code",
   "execution_count": 1,
   "id": "e88480e1",
   "metadata": {},
   "outputs": [],
   "source": [
    "####################################################################\n",
    "# fileobject = open(filepath,filemode,buffering)\n",
    "# write - writes the content passed as argument to the filed pointed to by file object\n",
    "#\n",
    "# writelines - takes a list as argument and writes the list element to the file pointed to by the file object\n",
    "###########################################################################"
   ]
  },
  {
   "cell_type": "code",
   "execution_count": 3,
   "id": "9721d78a",
   "metadata": {},
   "outputs": [],
   "source": [
    "\n",
    "#fh = open('file1.txt','w')\n",
    "fh = open('file2.txt','w')\n",
    "\n",
    "#fh.write(\"programming in python is fun\\n\")\n",
    "#fh.write(\"python is a simple language to learn\\n\")\n",
    "\n",
    "fh.writelines(['creating a file to write some content\\n','adding some more contents\\n'])\n",
    "\n",
    "fh.close()"
   ]
  },
  {
   "cell_type": "code",
   "execution_count": null,
   "id": "6282e32e",
   "metadata": {},
   "outputs": [],
   "source": []
  }
 ],
 "metadata": {
  "kernelspec": {
   "display_name": "Python 3 (ipykernel)",
   "language": "python",
   "name": "python3"
  },
  "language_info": {
   "codemirror_mode": {
    "name": "ipython",
    "version": 3
   },
   "file_extension": ".py",
   "mimetype": "text/x-python",
   "name": "python",
   "nbconvert_exporter": "python",
   "pygments_lexer": "ipython3",
   "version": "3.7.3"
  }
 },
 "nbformat": 4,
 "nbformat_minor": 5
}
