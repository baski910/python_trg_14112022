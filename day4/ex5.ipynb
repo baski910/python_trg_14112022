{
 "cells": [
  {
   "cell_type": "code",
   "execution_count": null,
   "id": "a97a09f0",
   "metadata": {},
   "outputs": [],
   "source": [
    "####################################################################\n",
    "# fileobject = open(filepath,filemode,buffering)\n",
    "# filepath = C:\\Users\\Administrator\\Desktop\\a.txt\n",
    "# windows \n",
    "# r'C:\\Users\\Administrator\\Desktop\\a.txt'\n",
    "# 'C:\\\\Users\\\\Administrator\\\\Desktop\\\\a.txt'\n",
    "# 'C:/Users/Administrator/Desktop/a.txt'\n",
    "# Linux - filepath as it is\n",
    "#\n",
    "# filemode\n",
    "# read and write - r,r+,rb,rb+ - leads to error if the file is missing\n",
    "# write and read - w,w+,wb,wb+ - creates the files if the file is missing, overwrite if exists\n",
    "# append and read - a,a+,ab,ab+ - creates the files if the file is missing, appends if exists\n",
    "#\n",
    "# buffering - 0,1,-1\n",
    "# 0 - no buffering\n",
    "# 1 - custom buffer size\n",
    "# -1 - OS defined\n",
    "###########################################################################"
   ]
  },
  {
   "cell_type": "code",
   "execution_count": 4,
   "id": "2479c8eb",
   "metadata": {},
   "outputs": [
    {
     "name": "stdout",
     "output_type": "stream",
     "text": [
      "readme.txt\n",
      "r\n",
      "False\n"
     ]
    }
   ],
   "source": [
    "fh = open('readme.txt','r')\n",
    "\n",
    "print(fh.name) # returns the name of the file\n",
    "print(fh.mode) # return the mode with which the file was opened\n",
    "print(fh.closed) # returns True if the file object is closed\n",
    "\n",
    "fh.close()"
   ]
  },
  {
   "cell_type": "code",
   "execution_count": null,
   "id": "536f52b5",
   "metadata": {},
   "outputs": [],
   "source": []
  }
 ],
 "metadata": {
  "kernelspec": {
   "display_name": "Python 3 (ipykernel)",
   "language": "python",
   "name": "python3"
  },
  "language_info": {
   "codemirror_mode": {
    "name": "ipython",
    "version": 3
   },
   "file_extension": ".py",
   "mimetype": "text/x-python",
   "name": "python",
   "nbconvert_exporter": "python",
   "pygments_lexer": "ipython3",
   "version": "3.7.3"
  }
 },
 "nbformat": 4,
 "nbformat_minor": 5
}
