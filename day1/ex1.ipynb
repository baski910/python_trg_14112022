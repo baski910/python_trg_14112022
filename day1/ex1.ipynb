{
 "cells": [
  {
   "cell_type": "code",
   "execution_count": 5,
   "id": "fa0488d9",
   "metadata": {},
   "outputs": [
    {
     "name": "stdout",
     "output_type": "stream",
     "text": [
      "value a is: 1\n",
      "reference of a with value 1: 9079008\n",
      "value a is: 2\n",
      "reference of a with value 2: 9079040\n",
      "value b is: 2\n",
      "reference of b with value 2: 9079040\n",
      "value c is: 1\n",
      "reference of c with value 2: 9079008\n"
     ]
    }
   ],
   "source": [
    "# id - Built-in function  returns the reference of the given object\n",
    "# working with variables\n",
    "a = 1 # python creates a object with the value on the right side. \n",
    "      # The identifier on left side assigned with reference of newly created object\n",
    "\n",
    "print(\"value a is:\",a)\n",
    "print(\"reference of a with value 1:\",id(a))\n",
    "    \n",
    "    \n",
    "a = 2 # new python object with value 2 is created\n",
    "\n",
    "print(\"value a is:\",a)\n",
    "print(\"reference of a with value 2:\",id(a))\n",
    "\n",
    "b = a # this assignment does not create a new variable. assigns the reference of a to b\n",
    "print(\"value b is:\",b)\n",
    "print(\"reference of b with value 2:\",id(b))\n",
    "\n",
    "c = 1\n",
    "print(\"value c is:\",c)\n",
    "print(\"reference of c with value 2:\",id(c))"
   ]
  },
  {
   "cell_type": "code",
   "execution_count": 6,
   "id": "6874b4a4",
   "metadata": {},
   "outputs": [
    {
     "name": "stdout",
     "output_type": "stream",
     "text": [
      "value a is: 5\n",
      "reference of a with value 5: 9079136\n",
      "value a is: 7\n",
      "reference of a with value 7: 9079200\n"
     ]
    }
   ],
   "source": [
    "# immutable - the reference changes on modification. int, float, str\n",
    "# mutable - the reference does not change on modification. list, dictionary\n",
    "\"\"\"Example for immutable objects\"\"\"\n",
    "a = 5 \n",
    "print(\"value a is:\",a)\n",
    "print(\"reference of a with value 5:\",id(a))\n",
    "\n",
    "a += 2\n",
    "print(\"value a is:\",a)\n",
    "print(\"reference of a with value 7:\",id(a))"
   ]
  },
  {
   "cell_type": "code",
   "execution_count": 8,
   "id": "ade8dae8",
   "metadata": {},
   "outputs": [
    {
     "name": "stdout",
     "output_type": "stream",
     "text": [
      "value of list1 is: [10, 'h', 'c', 'k', 20, 30]\n",
      "reference of list1: 139642812673480\n",
      "value of list1 is: [10, 'g', 'c', 'k', 20, 30]\n",
      "reference of list1: 139642812673480\n"
     ]
    }
   ],
   "source": [
    "\"\"\"Example for mutable objects\"\"\"\n",
    "list1 = [10,'h','c','k',20,30]\n",
    "\n",
    "print(\"value of list1 is:\",list1)\n",
    "print(\"reference of list1:\",id(list1))\n",
    "\n",
    "list1[1] = 'g'\n",
    "\n",
    "print(\"value of list1 is:\",list1)\n",
    "print(\"reference of list1:\",id(list1))"
   ]
  },
  {
   "cell_type": "code",
   "execution_count": null,
   "id": "30009e5a",
   "metadata": {},
   "outputs": [],
   "source": []
  }
 ],
 "metadata": {
  "kernelspec": {
   "display_name": "Python 3 (ipykernel)",
   "language": "python",
   "name": "python3"
  },
  "language_info": {
   "codemirror_mode": {
    "name": "ipython",
    "version": 3
   },
   "file_extension": ".py",
   "mimetype": "text/x-python",
   "name": "python",
   "nbconvert_exporter": "python",
   "pygments_lexer": "ipython3",
   "version": "3.7.3"
  }
 },
 "nbformat": 4,
 "nbformat_minor": 5
}
