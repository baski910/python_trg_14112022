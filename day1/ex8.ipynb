{
 "cells": [
  {
   "cell_type": "code",
   "execution_count": 3,
   "id": "31492cac",
   "metadata": {},
   "outputs": [
    {
     "name": "stdout",
     "output_type": "stream",
     "text": [
      "48\thello\t13.25\t91\t37\tworld\tTrue\tflowers\t51\t78\t\n",
      "\n",
      "hello\n",
      "78\n"
     ]
    }
   ],
   "source": [
    "\"\"\"Examples for creating, printing and slicing lists\"\"\"\n",
    "\n",
    "list1 = [48,\"hello\",13.25,91,37,\"world\",True,\"flowers\",51,78] # the elements can be of different data type\n",
    "#         0     1     2     3  4   5       6     7       8  9\n",
    "# iterate over the list using a for loop\n",
    "\n",
    "for element in list1:\n",
    "    print(element, end=\"\\t\")\n",
    "    \n",
    "print(\"\\n\") \n",
    "# print/return a list element using index\n",
    "print(list1[1]) # print the element at index 1\n",
    "\n",
    "# print/return a list element using negative index\n",
    "print(list1[-1]) # print the last element"
   ]
  },
  {
   "cell_type": "code",
   "execution_count": 4,
   "id": "48420ece",
   "metadata": {},
   "outputs": [
    {
     "name": "stdout",
     "output_type": "stream",
     "text": [
      "['hello', 13.25, 91, 37]\n",
      "[48, 'hello', 13.25, 91, 37]\n",
      "['world', True, 'flowers', 51, 78]\n",
      "[48, 'hello', 13.25, 91, 37, 'world', True, 'flowers', 51, 78]\n"
     ]
    }
   ],
   "source": [
    "# print/return list elements using slicing operator. \n",
    "print(list1[1:5]) # print all elements \n",
    "\n",
    "print(list1[:5]) # print all elements from index 0 upto index 5(not including index 5)\n",
    "\n",
    "print(list1[5:]) # print all elements from index 5 upto end of the list\n",
    "\n",
    "print(list1[:]) # returns/prints a new list with same set of elements"
   ]
  },
  {
   "cell_type": "code",
   "execution_count": 5,
   "id": "1ec9a793",
   "metadata": {},
   "outputs": [
    {
     "name": "stdout",
     "output_type": "stream",
     "text": [
      "['hello', 91, 'world', 'flowers']\n",
      "[78, 51, 'flowers', True, 'world', 37, 91, 13.25, 'hello', 48]\n"
     ]
    }
   ],
   "source": [
    "# extended slicing list[start:stop:step]\n",
    "\n",
    "print(list1[1:8:2]) # prints elements at index 1,3,5 and 7\n",
    "\n",
    "# reverse a list using extended slicing\n",
    "print(list1[::-1])"
   ]
  },
  {
   "cell_type": "code",
   "execution_count": 6,
   "id": "9fc3f9e0",
   "metadata": {},
   "outputs": [
    {
     "name": "stdout",
     "output_type": "stream",
     "text": [
      "[10, 20, 30, 'a', 'b', 'c']\n"
     ]
    }
   ],
   "source": [
    "list2 = [10,20,30]\n",
    "\n",
    "list3= ['a','b','c']\n",
    "\n",
    "# merge 2 lists using '+' operator\n",
    "\n",
    "print(list2 + list3)"
   ]
  },
  {
   "cell_type": "code",
   "execution_count": 7,
   "id": "43f785f2",
   "metadata": {},
   "outputs": [
    {
     "name": "stdout",
     "output_type": "stream",
     "text": [
      "['a', 'b', 'c', 'a', 'b', 'c', 'a', 'b', 'c']\n"
     ]
    }
   ],
   "source": [
    "# multiplying list using '*' operator\n",
    "\n",
    "list4 = ['a','b','c']\n",
    "\n",
    "print(list4 * 3) # a list with 9 elements is formed by repeating 'a','b','c' for 3 times"
   ]
  },
  {
   "cell_type": "code",
   "execution_count": null,
   "id": "c6c2a820",
   "metadata": {},
   "outputs": [],
   "source": []
  }
 ],
 "metadata": {
  "kernelspec": {
   "display_name": "Python 3 (ipykernel)",
   "language": "python",
   "name": "python3"
  },
  "language_info": {
   "codemirror_mode": {
    "name": "ipython",
    "version": 3
   },
   "file_extension": ".py",
   "mimetype": "text/x-python",
   "name": "python",
   "nbconvert_exporter": "python",
   "pygments_lexer": "ipython3",
   "version": "3.7.3"
  }
 },
 "nbformat": 4,
 "nbformat_minor": 5
}
