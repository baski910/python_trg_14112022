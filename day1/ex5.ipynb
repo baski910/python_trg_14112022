{
 "cells": [
  {
   "cell_type": "code",
   "execution_count": 1,
   "id": "59e32e86",
   "metadata": {},
   "outputs": [
    {
     "name": "stdout",
     "output_type": "stream",
     "text": [
      "HELLOWORLD\n"
     ]
    }
   ],
   "source": [
    "\"\"\"Examples for string functions\"\"\"\n",
    "\n",
    "s1=\"helloworld\"\n",
    "\n",
    "print(s1.upper()) # output will be HELLOWORLD"
   ]
  },
  {
   "cell_type": "code",
   "execution_count": 2,
   "id": "78de5f5f",
   "metadata": {},
   "outputs": [
    {
     "name": "stdout",
     "output_type": "stream",
     "text": [
      "5\n",
      "-1\n"
     ]
    }
   ],
   "source": [
    "print(s1.find('w')) # output will be 5\n",
    "\n",
    "print(s1.find('a')) # output will be -1"
   ]
  },
  {
   "cell_type": "code",
   "execution_count": 3,
   "id": "43932bfe",
   "metadata": {},
   "outputs": [
    {
     "name": "stdout",
     "output_type": "stream",
     "text": [
      "5\n"
     ]
    }
   ],
   "source": [
    "print(s1.index('w')) # output will be 5"
   ]
  },
  {
   "cell_type": "code",
   "execution_count": 6,
   "id": "58682a43",
   "metadata": {},
   "outputs": [
    {
     "name": "stdout",
     "output_type": "stream",
     "text": [
      "substring' a 'not found\n"
     ]
    }
   ],
   "source": [
    "s1=\"helloworld\"\n",
    "ss = 'a'\n",
    "try:\n",
    "    print(s1.index(ss)) # results in error as 'a' is not found in s1\n",
    "except:\n",
    "    print(\"substring'\",ss,\"'not found\")"
   ]
  },
  {
   "cell_type": "code",
   "execution_count": 7,
   "id": "beaece61",
   "metadata": {},
   "outputs": [
    {
     "name": "stdout",
     "output_type": "stream",
     "text": [
      "3\n"
     ]
    }
   ],
   "source": [
    "s1=\"helloworld\"\n",
    "\n",
    "print(s1.count('l')) # returns the number of occcurances of substring inside the string. returns 0 if substring not found"
   ]
  },
  {
   "cell_type": "code",
   "execution_count": 8,
   "id": "7564fb13",
   "metadata": {},
   "outputs": [
    {
     "name": "stdout",
     "output_type": "stream",
     "text": [
      "2\n",
      "4\n",
      "3\n",
      "7\n"
     ]
    }
   ],
   "source": [
    "s2 =\"km2y4p37r\"  # 20221114: information\n",
    "\n",
    "for char in s2:\n",
    "    if char.isdigit():\n",
    "        print(char)"
   ]
  },
  {
   "cell_type": "code",
   "execution_count": 9,
   "id": "2ac63752",
   "metadata": {},
   "outputs": [
    {
     "name": "stdout",
     "output_type": "stream",
     "text": [
      "['cat', 'sat', 'on', 'the', 'mat']\n"
     ]
    }
   ],
   "source": [
    "# split - returns a list, by spliting the string using the delimiter passed as an argument. \n",
    "# whitespace is the default delimiter\n",
    "\n",
    "s3 = \"cat sat on the mat\"\n",
    "\n",
    "words = s3.split()\n",
    "\n",
    "print(words)"
   ]
  },
  {
   "cell_type": "code",
   "execution_count": 12,
   "id": "cdf025ab",
   "metadata": {},
   "outputs": [
    {
     "name": "stdout",
     "output_type": "stream",
     "text": [
      "['2022', '11', '14']\n"
     ]
    }
   ],
   "source": [
    "\"\"\"split with some delimiters\"\"\"\n",
    "\n",
    "curday = \"2022-11-14\"\n",
    "\n",
    "days = curday.split(\"-\")\n",
    "\n",
    "print(days)"
   ]
  },
  {
   "cell_type": "code",
   "execution_count": null,
   "id": "5bd60257",
   "metadata": {},
   "outputs": [],
   "source": []
  }
 ],
 "metadata": {
  "kernelspec": {
   "display_name": "Python 3 (ipykernel)",
   "language": "python",
   "name": "python3"
  },
  "language_info": {
   "codemirror_mode": {
    "name": "ipython",
    "version": 3
   },
   "file_extension": ".py",
   "mimetype": "text/x-python",
   "name": "python",
   "nbconvert_exporter": "python",
   "pygments_lexer": "ipython3",
   "version": "3.7.3"
  }
 },
 "nbformat": 4,
 "nbformat_minor": 5
}
