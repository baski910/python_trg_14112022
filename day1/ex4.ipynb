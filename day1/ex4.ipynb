{
 "cells": [
  {
   "cell_type": "code",
   "execution_count": null,
   "id": "6473de8e",
   "metadata": {},
   "outputs": [],
   "source": [
    "\"\"\"Examples using string\"\"\"\n",
    "\n",
    "#  h e l l o w o r l d\n",
    "#  0 1 2 3 4 5 6 7 8 9\n",
    "#-10-9-8-7-6-5-4-3-2-1 \n",
    "\n",
    "s1=\"helloworld\"\n",
    "\n",
    "#iterate over each character\n",
    "for char in s1:\n",
    "    print(char)"
   ]
  },
  {
   "cell_type": "code",
   "execution_count": 3,
   "id": "fa40e908",
   "metadata": {},
   "outputs": [
    {
     "name": "stdout",
     "output_type": "stream",
     "text": [
      "w\n"
     ]
    }
   ],
   "source": [
    "#return character at index 5\n",
    "print(s1[5]) # output will be 'w'"
   ]
  },
  {
   "cell_type": "code",
   "execution_count": 4,
   "id": "230def53",
   "metadata": {},
   "outputs": [
    {
     "name": "stdout",
     "output_type": "stream",
     "text": [
      "d\n"
     ]
    }
   ],
   "source": [
    "#preturn the last character using negative index\n",
    "print(s1[-1]) # output will be 'd'"
   ]
  },
  {
   "cell_type": "code",
   "execution_count": 5,
   "id": "b52a0908",
   "metadata": {},
   "outputs": [
    {
     "name": "stdout",
     "output_type": "stream",
     "text": [
      "ello\n"
     ]
    }
   ],
   "source": [
    "s1 = \"helloworld\"\n",
    "#retuns character starting from index 1 upto index 5(not including). i.e., prints character at index 1,2,3 and 4\n",
    "print(s1[1:5])"
   ]
  },
  {
   "cell_type": "code",
   "execution_count": 6,
   "id": "85e95308",
   "metadata": {},
   "outputs": [
    {
     "name": "stdout",
     "output_type": "stream",
     "text": [
      "hello\n",
      "world\n"
     ]
    }
   ],
   "source": [
    "#returns characters from beginning of the string upto index specified by upper limit\n",
    "print(s1[:5]) # output will be 'hello'\n",
    "\n",
    "#returns characters upto end of the string from index specified by lower limit\n",
    "print(s1[5:]) # output will be 'world'"
   ]
  },
  {
   "cell_type": "code",
   "execution_count": 7,
   "id": "af768077",
   "metadata": {},
   "outputs": [
    {
     "name": "stdout",
     "output_type": "stream",
     "text": [
      "helloworld\n"
     ]
    }
   ],
   "source": [
    "#returns a new string with same set of characters\n",
    "print(s1[:]) # output will be 'helloworld'"
   ]
  },
  {
   "cell_type": "code",
   "execution_count": 8,
   "id": "3c1f878c",
   "metadata": {},
   "outputs": [
    {
     "name": "stdout",
     "output_type": "stream",
     "text": [
      "elwr\n"
     ]
    }
   ],
   "source": [
    "s1 = \"helloworld\"\n",
    "\"\"\"extended slicing can be done on a string as follows:\n",
    "string[start:stop:step]\n",
    "characters within start and stop index jumping in steps \n",
    "\"\"\"\n",
    "\n",
    "print(s1[1:8:2]) # output will be 'elwr' - i.e., characters at index 1,3,5 and 7"
   ]
  },
  {
   "cell_type": "code",
   "execution_count": 9,
   "id": "696c3a67",
   "metadata": {},
   "outputs": [
    {
     "name": "stdout",
     "output_type": "stream",
     "text": [
      "dlrowolleh\n"
     ]
    }
   ],
   "source": [
    "#a string can be reversed using extended slicing\n",
    "print(s1[::-1]) # output will be 'dlrowolleh'"
   ]
  },
  {
   "cell_type": "code",
   "execution_count": 10,
   "id": "68b85995",
   "metadata": {},
   "outputs": [
    {
     "name": "stdout",
     "output_type": "stream",
     "text": [
      "helloworld\n"
     ]
    }
   ],
   "source": [
    "\"\"\"concatenate strings\"\"\"\n",
    "s1=\"hello\"\n",
    "s2=\"world\"\n",
    "\n",
    "print(s1+s2) # output will be 'helloworld'"
   ]
  },
  {
   "cell_type": "code",
   "execution_count": 11,
   "id": "d04a378b",
   "metadata": {},
   "outputs": [
    {
     "name": "stdout",
     "output_type": "stream",
     "text": [
      "############################################################\n"
     ]
    }
   ],
   "source": [
    "\"\"\"string multiplication\"\"\"\n",
    "s1='#'\n",
    "\n",
    "print(s1*60) # output will be '#' printed for 60 times"
   ]
  },
  {
   "cell_type": "code",
   "execution_count": null,
   "id": "b705d7fb",
   "metadata": {},
   "outputs": [],
   "source": []
  }
 ],
 "metadata": {
  "kernelspec": {
   "display_name": "Python 3 (ipykernel)",
   "language": "python",
   "name": "python3"
  },
  "language_info": {
   "codemirror_mode": {
    "name": "ipython",
    "version": 3
   },
   "file_extension": ".py",
   "mimetype": "text/x-python",
   "name": "python",
   "nbconvert_exporter": "python",
   "pygments_lexer": "ipython3",
   "version": "3.7.3"
  }
 },
 "nbformat": 4,
 "nbformat_minor": 5
}
