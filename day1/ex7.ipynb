{
 "cells": [
  {
   "cell_type": "code",
   "execution_count": 4,
   "id": "73c75f32",
   "metadata": {},
   "outputs": [
    {
     "name": "stdout",
     "output_type": "stream",
     "text": [
      "[48, 126, 71, 95, 803, 28]\n",
      "[803, 126, 95, 71, 48, 28]\n",
      "803\n",
      "126\n",
      "95\n",
      "71\n",
      "48\n",
      "28\n"
     ]
    }
   ],
   "source": [
    "list1 = [48,'hello',126,71,95,'world',803,28] # write a list comprehension to eliminate other data types except int\n",
    "\n",
    "list1 = [x for x in list1 if type(x) is int]\n",
    "\n",
    "print(list1)\n",
    "\n",
    "list1.sort(reverse=True)\n",
    "\n",
    "print(list1)\n",
    "\n",
    "for num in list1:\n",
    "    print(num)"
   ]
  },
  {
   "cell_type": "code",
   "execution_count": null,
   "id": "7324bbfb",
   "metadata": {},
   "outputs": [],
   "source": []
  }
 ],
 "metadata": {
  "kernelspec": {
   "display_name": "Python 3 (ipykernel)",
   "language": "python",
   "name": "python3"
  },
  "language_info": {
   "codemirror_mode": {
    "name": "ipython",
    "version": 3
   },
   "file_extension": ".py",
   "mimetype": "text/x-python",
   "name": "python",
   "nbconvert_exporter": "python",
   "pygments_lexer": "ipython3",
   "version": "3.7.3"
  }
 },
 "nbformat": 4,
 "nbformat_minor": 5
}
