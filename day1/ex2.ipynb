{
 "cells": [
  {
   "cell_type": "code",
   "execution_count": 1,
   "id": "dd9dbe1e",
   "metadata": {},
   "outputs": [
    {
     "name": "stdout",
     "output_type": "stream",
     "text": [
      "<class 'int'>\n"
     ]
    }
   ],
   "source": [
    "\"\"\"python integer has unlimited size. They are positive or negative whole numbers without decimal point\"\"\"\n",
    "\n",
    "\"\"\"to print the data type of a variable built-in function named 'type' is used\"\"\"\n",
    "var1 = 150\n",
    "print(type(var1)) # the output will be <class 'int'>"
   ]
  },
  {
   "cell_type": "code",
   "execution_count": 2,
   "id": "ef425a74",
   "metadata": {},
   "outputs": [
    {
     "name": "stdout",
     "output_type": "stream",
     "text": [
      "<class 'float'>\n"
     ]
    }
   ],
   "source": [
    "var1 = 24.81\n",
    "print(type(var1)) # the output will be <class 'float'>"
   ]
  },
  {
   "cell_type": "code",
   "execution_count": 3,
   "id": "8ddbcad7",
   "metadata": {},
   "outputs": [
    {
     "name": "stdout",
     "output_type": "stream",
     "text": [
      "<class 'str'>\n"
     ]
    }
   ],
   "source": [
    "var1 = \"helloworld\"\n",
    "print(type(var1)) # the output will be <class 'str'>"
   ]
  },
  {
   "cell_type": "code",
   "execution_count": 4,
   "id": "2aaa9a80",
   "metadata": {},
   "outputs": [
    {
     "name": "stdout",
     "output_type": "stream",
     "text": [
      "<class 'tuple'>\n"
     ]
    }
   ],
   "source": [
    "var1 = (\"hello\",\"world\",'a',25,50) # constant array\n",
    "print(type(var1)) # the output will be <class 'tuple'>"
   ]
  },
  {
   "cell_type": "code",
   "execution_count": 5,
   "id": "432bfa8f",
   "metadata": {},
   "outputs": [
    {
     "name": "stdout",
     "output_type": "stream",
     "text": [
      "<class 'list'>\n"
     ]
    }
   ],
   "source": [
    "var1 = [\"hello\",\"world\",'a',25,50]\n",
    "print(type(var1)) # the output will be <class 'list'>\n",
    "\n",
    "# print(var1[0])"
   ]
  },
  {
   "cell_type": "code",
   "execution_count": null,
   "id": "15229cd9",
   "metadata": {},
   "outputs": [],
   "source": [
    "var1 = {'os':'linux','db':'postgres','language':'python'}\n",
    "print(type(var1)) # the output will be <class 'dict'>"
   ]
  }
 ],
 "metadata": {
  "kernelspec": {
   "display_name": "Python 3 (ipykernel)",
   "language": "python",
   "name": "python3"
  },
  "language_info": {
   "codemirror_mode": {
    "name": "ipython",
    "version": 3
   },
   "file_extension": ".py",
   "mimetype": "text/x-python",
   "name": "python",
   "nbconvert_exporter": "python",
   "pygments_lexer": "ipython3",
   "version": "3.7.3"
  }
 },
 "nbformat": 4,
 "nbformat_minor": 5
}
