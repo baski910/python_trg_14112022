{
 "cells": [
  {
   "cell_type": "code",
   "execution_count": 1,
   "id": "2d50ca63",
   "metadata": {},
   "outputs": [
    {
     "name": "stdout",
     "output_type": "stream",
     "text": [
      "substring 'a' is not found\n"
     ]
    }
   ],
   "source": [
    "# producing formatted output using % operator\n",
    "s1 = \"helloworld\"\n",
    "ss = 'a'\n",
    "\n",
    "try:\n",
    "    s1.index(ss)\n",
    "except:\n",
    "    print(\"substring '%s' is not found\" %ss)"
   ]
  },
  {
   "cell_type": "code",
   "execution_count": 3,
   "id": "73ea4964",
   "metadata": {},
   "outputs": [
    {
     "name": "stdout",
     "output_type": "stream",
     "text": [
      "pi=3.141590\n",
      "pi=3.14\n"
     ]
    }
   ],
   "source": [
    "# to display the value with specified number of decimal precision, '%' operator is used\n",
    "\n",
    "pi = 3.14159\n",
    "\n",
    "print(\"pi=%f\" %pi) # output will be 3.14159\n",
    "print(\"pi=%0.2f\" %pi) # output will be 3.14159"
   ]
  },
  {
   "cell_type": "code",
   "execution_count": 4,
   "id": "d4e197da",
   "metadata": {},
   "outputs": [
    {
     "name": "stdout",
     "output_type": "stream",
     "text": [
      "bob has scored 80 marks in maths\n"
     ]
    }
   ],
   "source": [
    "# to produce a output something like 'bob has scored 80 marks in maths', \n",
    "# using variables name,mark and subject with '%' opertor we do as given below\n",
    "\n",
    "name='bob'\n",
    "mark=80\n",
    "subject='maths'\n",
    "\n",
    "print(\"%s has scored %d marks in %s\" %(name,mark,subject))"
   ]
  },
  {
   "cell_type": "code",
   "execution_count": 5,
   "id": "e29971df",
   "metadata": {},
   "outputs": [
    {
     "name": "stdout",
     "output_type": "stream",
     "text": [
      "bob has scored 80 marks in maths\n"
     ]
    }
   ],
   "source": [
    "# the output produced in the above statement, can also be done using concatenation \n",
    "# However, it involves type casting whereever necessary. \n",
    "# Writing this way has less readability when number of variables are more\n",
    "\n",
    "print(name+\" has scored \"+str(mark)+\" marks in \"+subject)"
   ]
  },
  {
   "cell_type": "code",
   "execution_count": 7,
   "id": "1ec3c567",
   "metadata": {},
   "outputs": [
    {
     "name": "stdout",
     "output_type": "stream",
     "text": [
      "bob has scored 80 marks in maths\n"
     ]
    }
   ],
   "source": [
    "# Even with the information(data) in the form of a dictionary, the same output could be produced\n",
    "\n",
    "d1 = {'name':'bob','mark':80,'subject':'maths'}\n",
    "\n",
    "print(\"%(name)s has scored %(mark)d marks in %(subject)s\" %d1)"
   ]
  },
  {
   "cell_type": "code",
   "execution_count": 11,
   "id": "afc02a85",
   "metadata": {},
   "outputs": [
    {
     "name": "stdout",
     "output_type": "stream",
     "text": [
      "We have 60 students in Computer Science\n",
      "We have world students in hello.\n"
     ]
    }
   ],
   "source": [
    "\"\"\"Examples for using format function\"\"\"\n",
    "\n",
    "# in the below statement the pair of curly braces are substituted with the parameters of \n",
    "# format function is same order how they were passed\n",
    "print(\"We have {} students in {}\".format(60, \"Computer Science\"))  # output will be - We have 60 students in Computer Science\n",
    "\n",
    "# if the values passed in different order to the format function, index can be used to substitute appropriately\n",
    "print(\"We have {1} students in {0}.\".format(\"Computer Science\",60)) # output will be the same as above statement\n",
    "\n"
   ]
  },
  {
   "cell_type": "code",
   "execution_count": 12,
   "id": "5a338849",
   "metadata": {},
   "outputs": [
    {
     "name": "stdout",
     "output_type": "stream",
     "text": [
      "We have 60 students in Computer Science.\n"
     ]
    }
   ],
   "source": [
    "# variables can also be passed to format function\n",
    "\n",
    "department='Computer Science'\n",
    "num_of_students=60\n",
    "print(\"We have {1} students in {0}.\".format(department,num_of_students)) # output will be the same as above statement"
   ]
  },
  {
   "cell_type": "code",
   "execution_count": 13,
   "id": "e56840b2",
   "metadata": {},
   "outputs": [
    {
     "name": "stdout",
     "output_type": "stream",
     "text": [
      "We have 60 students in Computer Science.\n"
     ]
    }
   ],
   "source": [
    "# using identifiers inside the template\n",
    "\n",
    "department='Computer Science'\n",
    "num_of_students=60\n",
    "print(\"We have {numbers} students in {dept}.\".format(dept = department,numbers = num_of_students)) # output will be the same as above statement"
   ]
  },
  {
   "cell_type": "code",
   "execution_count": null,
   "id": "85af06bc",
   "metadata": {},
   "outputs": [],
   "source": []
  }
 ],
 "metadata": {
  "kernelspec": {
   "display_name": "Python 3 (ipykernel)",
   "language": "python",
   "name": "python3"
  },
  "language_info": {
   "codemirror_mode": {
    "name": "ipython",
    "version": 3
   },
   "file_extension": ".py",
   "mimetype": "text/x-python",
   "name": "python",
   "nbconvert_exporter": "python",
   "pygments_lexer": "ipython3",
   "version": "3.7.3"
  }
 },
 "nbformat": 4,
 "nbformat_minor": 5
}
