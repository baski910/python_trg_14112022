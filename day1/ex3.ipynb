{
 "cells": [
  {
   "cell_type": "code",
   "execution_count": 2,
   "id": "95db28fc",
   "metadata": {},
   "outputs": [
    {
     "name": "stdout",
     "output_type": "stream",
     "text": [
      "3.75\n",
      "3\n"
     ]
    }
   ],
   "source": [
    "\"\"\"some additional operators\"\"\"\n",
    "\n",
    "\"\"\"floor operator - returns the nearest lower integer\"\"\"\n",
    "\n",
    "num1=15\n",
    "num2=4\n",
    "\n",
    "print(num1/num2) # the output will be 3.75\n",
    "print(num1//num2) # the output will be 3"
   ]
  },
  {
   "cell_type": "code",
   "execution_count": 4,
   "id": "e421be47",
   "metadata": {},
   "outputs": [
    {
     "name": "stdout",
     "output_type": "stream",
     "text": [
      "not found\n"
     ]
    }
   ],
   "source": [
    "\"\"\"membership operator - returns true if the given element is present in the sequence\"\"\"\n",
    "\n",
    "list1=['a','b','c','d','e','f']\n",
    "\n",
    "if 'w' in list1:\n",
    "    print(\"found\")\n",
    "else:\n",
    "    print(\"not found\")"
   ]
  },
  {
   "cell_type": "code",
   "execution_count": 6,
   "id": "21f0b78e",
   "metadata": {},
   "outputs": [
    {
     "name": "stdout",
     "output_type": "stream",
     "text": [
      "num is not an integer\n"
     ]
    }
   ],
   "source": [
    "    \n",
    "\"\"\"identity operator - returns true if operand on both sides are of same data type\"\"\"\n",
    "\n",
    "num = \"20\"\n",
    "\n",
    "if type(num) is int:\n",
    "    print(\"num is integer\")\n",
    "else:\n",
    "    print(\"num is not an integer\")"
   ]
  },
  {
   "cell_type": "code",
   "execution_count": 9,
   "id": "bbe8d287",
   "metadata": {},
   "outputs": [
    {
     "ename": "IndentationError",
     "evalue": "unexpected indent (2288467059.py, line 5)",
     "output_type": "error",
     "traceback": [
      "\u001b[0;36m  File \u001b[0;32m\"/tmp/ipykernel_10115/2288467059.py\"\u001b[0;36m, line \u001b[0;32m5\u001b[0m\n\u001b[0;31m    print(\"this line is indented\") # result in error\u001b[0m\n\u001b[0m    ^\u001b[0m\n\u001b[0;31mIndentationError\u001b[0m\u001b[0;31m:\u001b[0m unexpected indent\n"
     ]
    }
   ],
   "source": [
    "\"\"\"significance of white space\"\"\"\n",
    "\n",
    "print(\"some line\")\n",
    "\n",
    "print(\"this line is indented\") # result in error\n",
    "    \n",
    "print(\"script continues here\")"
   ]
  },
  {
   "cell_type": "code",
   "execution_count": null,
   "id": "b2312a5d",
   "metadata": {},
   "outputs": [],
   "source": []
  }
 ],
 "metadata": {
  "kernelspec": {
   "display_name": "Python 3 (ipykernel)",
   "language": "python",
   "name": "python3"
  },
  "language_info": {
   "codemirror_mode": {
    "name": "ipython",
    "version": 3
   },
   "file_extension": ".py",
   "mimetype": "text/x-python",
   "name": "python",
   "nbconvert_exporter": "python",
   "pygments_lexer": "ipython3",
   "version": "3.7.3"
  }
 },
 "nbformat": 4,
 "nbformat_minor": 5
}
