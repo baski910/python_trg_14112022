{
 "cells": [
  {
   "cell_type": "code",
   "execution_count": null,
   "id": "817db6a2",
   "metadata": {},
   "outputs": [],
   "source": [
    "# reading a csv file and writing it as excel file\n",
    "\n",
    "import pandas as pd\n",
    "\n",
    "df = pd.read_csv('uk-500.csv') # reading csv file\n",
    "\n",
    "#print(df.columns) # print csv headers\n",
    "\n",
    "print(df.head()) # print 1st five rows"
   ]
  },
  {
   "cell_type": "code",
   "execution_count": 4,
   "id": "fbbe7251",
   "metadata": {},
   "outputs": [],
   "source": [
    "# write the df frame to excel\n",
    "\n",
    "df.to_excel('test.xlsx', index=False)"
   ]
  },
  {
   "cell_type": "code",
   "execution_count": null,
   "id": "fc7dbe79",
   "metadata": {},
   "outputs": [],
   "source": []
  }
 ],
 "metadata": {
  "kernelspec": {
   "display_name": "Python 3 (ipykernel)",
   "language": "python",
   "name": "python3"
  },
  "language_info": {
   "codemirror_mode": {
    "name": "ipython",
    "version": 3
   },
   "file_extension": ".py",
   "mimetype": "text/x-python",
   "name": "python",
   "nbconvert_exporter": "python",
   "pygments_lexer": "ipython3",
   "version": "3.7.3"
  }
 },
 "nbformat": 4,
 "nbformat_minor": 5
}
