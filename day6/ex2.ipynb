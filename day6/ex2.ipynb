{
 "cells": [
  {
   "cell_type": "code",
   "execution_count": 1,
   "id": "fc8fc464",
   "metadata": {},
   "outputs": [],
   "source": [
    "######################################################\n",
    "# regular expression - user defined expression to match\n",
    "#                      extract from the given input\n",
    "# metacharacters - . * + ? {} () [] \\w \\d \\b ^ $\n",
    "#\n",
    "# re - module used to work with regular expression\n",
    "# * - zero or more times\n",
    "# to*tal - ttal total tootal tooootal toooooooootal\n",
    "# + - one or more times\n",
    "# to+tal - total tootal tooootal toooooooootal\n",
    "# ? - either zero or one\n",
    "# https?://www.mydomain.com - https://www.mydomain.com http://www.mydomain.com\n",
    "# {} - {n} pattern should occur 'n' number of time\n",
    "# https://w{3}.mydomain.com\n",
    "#####################################################"
   ]
  },
  {
   "cell_type": "code",
   "execution_count": 13,
   "id": "238ec17a",
   "metadata": {},
   "outputs": [
    {
     "name": "stdout",
     "output_type": "stream",
     "text": [
      "Enter a string\n",
      "https://ww.mydomain.com\n",
      "not matched\n"
     ]
    }
   ],
   "source": [
    "import re\n",
    "\n",
    "import re\n",
    "\n",
    "s1 = input(\"Enter a string\\n\")\n",
    "\n",
    "#sobj = re.search(r'to*tal',s1)\n",
    "#sobj = re.search(r'to+tal',s1)\n",
    "#sobj = re.search(r'https?://www.mydomain.com', s1)\n",
    "sobj = re.search(r'https://w{3}.mydomain.com', s1)\n",
    "\n",
    "if sobj:\n",
    "    print(\"matched\")\n",
    "else:\n",
    "    print(\"not matched\")"
   ]
  },
  {
   "cell_type": "code",
   "execution_count": null,
   "id": "2696a7d3",
   "metadata": {},
   "outputs": [],
   "source": []
  }
 ],
 "metadata": {
  "kernelspec": {
   "display_name": "Python 3 (ipykernel)",
   "language": "python",
   "name": "python3"
  },
  "language_info": {
   "codemirror_mode": {
    "name": "ipython",
    "version": 3
   },
   "file_extension": ".py",
   "mimetype": "text/x-python",
   "name": "python",
   "nbconvert_exporter": "python",
   "pygments_lexer": "ipython3",
   "version": "3.7.3"
  }
 },
 "nbformat": 4,
 "nbformat_minor": 5
}
