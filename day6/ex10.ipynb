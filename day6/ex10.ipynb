{
 "cells": [
  {
   "cell_type": "code",
   "execution_count": 1,
   "id": "4b9ee626",
   "metadata": {},
   "outputs": [],
   "source": [
    "# xml.etree.ElementTree - python module to parse xml files"
   ]
  },
  {
   "cell_type": "code",
   "execution_count": 2,
   "id": "cbb7e584",
   "metadata": {},
   "outputs": [
    {
     "name": "stdout",
     "output_type": "stream",
     "text": [
      "collection\n"
     ]
    }
   ],
   "source": [
    "import xml.etree.ElementTree as et\n",
    "\n",
    "tree = et.parse(\"movies.xml\")\n",
    "\n",
    "root = tree.getroot()\n",
    "\n",
    "print(root.tag) # prints name of root node"
   ]
  },
  {
   "cell_type": "code",
   "execution_count": 3,
   "id": "7d89b001",
   "metadata": {},
   "outputs": [
    {
     "name": "stdout",
     "output_type": "stream",
     "text": [
      "genre {'category': 'Action'}\n",
      "genre {'category': 'Thriller'}\n"
     ]
    }
   ],
   "source": [
    "# list the immediate children of root node\n",
    "\n",
    "for child in root:\n",
    "    print(child.tag,child.attrib)"
   ]
  },
  {
   "cell_type": "code",
   "execution_count": null,
   "id": "451fe982",
   "metadata": {},
   "outputs": [],
   "source": [
    "# list all child nodes\n",
    "for child in root.iter():\n",
    "    print(child.tag,child.attrib)"
   ]
  },
  {
   "cell_type": "code",
   "execution_count": 5,
   "id": "9f283c88",
   "metadata": {},
   "outputs": [
    {
     "name": "stdout",
     "output_type": "stream",
     "text": [
      "movie {'favorite': 'True', 'title': 'Indiana Jones: The raiders of the lost Ark'}\n",
      "movie {'favorite': 'True', 'title': 'THE KARATE KID'}\n",
      "movie {'favorite': 'False', 'title': 'Back 2 the Future'}\n",
      "movie {'favorite': 'False', 'title': 'X-Men'}\n",
      "movie {'favorite': 'True', 'title': 'Batman Returns'}\n",
      "movie {'favorite': 'False', 'title': 'Reservoir Dogs'}\n",
      "movie {'favorite': 'False', 'title': 'ALIEN'}\n",
      "movie {'favorite': 'True', 'title': \"Ferris Bueller's Day Off\"}\n",
      "movie {'favorite': 'FALSE', 'title': 'American Psycho'}\n"
     ]
    }
   ],
   "source": [
    "# list selective child\n",
    "for child in root.iter('movie'):\n",
    "    print(child.tag,child.attrib)\n"
   ]
  },
  {
   "cell_type": "code",
   "execution_count": null,
   "id": "45ad7646",
   "metadata": {},
   "outputs": [],
   "source": [
    "# select using xpath\n",
    "for child in root.findall(\"./genre/decade/movie[year='1992']\")"
   ]
  }
 ],
 "metadata": {
  "kernelspec": {
   "display_name": "Python 3 (ipykernel)",
   "language": "python",
   "name": "python3"
  },
  "language_info": {
   "codemirror_mode": {
    "name": "ipython",
    "version": 3
   },
   "file_extension": ".py",
   "mimetype": "text/x-python",
   "name": "python",
   "nbconvert_exporter": "python",
   "pygments_lexer": "ipython3",
   "version": "3.7.3"
  }
 },
 "nbformat": 4,
 "nbformat_minor": 5
}
