{
 "cells": [
  {
   "cell_type": "code",
   "execution_count": 3,
   "id": "9410b3fc",
   "metadata": {},
   "outputs": [
    {
     "name": "stdout",
     "output_type": "stream",
     "text": [
      "    name  age  department departmentname\n",
      "0    tom    20        EEE     Electrical\n",
      "1  alice    21        ECE  Communication\n",
      "2    bob    20        CSE       Computer\n"
     ]
    }
   ],
   "source": [
    "# merge data frames\n",
    "\n",
    "import pandas as pd\n",
    "\n",
    "df1 = pd.read_excel('names.xlsx',sheet_name='Sheet1')\n",
    "\n",
    "#print(df1)\n",
    "\n",
    "df2 = pd.read_excel('names.xlsx',sheet_name='Sheet2')\n",
    "\n",
    "#print(df2)\n",
    "\n",
    "#equi join\n",
    "df3 = pd.merge(df1,df2,on='department')\n",
    "\n",
    "print(df3)"
   ]
  },
  {
   "cell_type": "code",
   "execution_count": 4,
   "id": "e551196b",
   "metadata": {},
   "outputs": [
    {
     "name": "stdout",
     "output_type": "stream",
     "text": [
      "    name  age  department departmentname\n",
      "0    tom    20        EEE     Electrical\n",
      "1  alice    21        ECE  Communication\n",
      "2    bob    20        CSE       Computer\n",
      "3    joe    21       CHEM            NaN\n"
     ]
    }
   ],
   "source": [
    "# left join\n",
    "df3 = pd.merge(df1,df2,on='department',how='left')\n",
    "\n",
    "print(df3)"
   ]
  },
  {
   "cell_type": "code",
   "execution_count": 5,
   "id": "526efb1b",
   "metadata": {},
   "outputs": [
    {
     "name": "stdout",
     "output_type": "stream",
     "text": [
      "    name  age  department departmentname\n",
      "0    tom  20.0        EEE     Electrical\n",
      "1  alice  21.0        ECE  Communication\n",
      "2    bob  20.0        CSE       Computer\n",
      "3    NaN   NaN         IT    Information\n"
     ]
    }
   ],
   "source": [
    "# right join\n",
    "df3 = pd.merge(df1,df2,on='department',how='right')\n",
    "\n",
    "print(df3)"
   ]
  },
  {
   "cell_type": "code",
   "execution_count": 7,
   "id": "8980ad99",
   "metadata": {},
   "outputs": [
    {
     "name": "stdout",
     "output_type": "stream",
     "text": [
      "    name  age  department departmentname\n",
      "0    tom  20.0        EEE     Electrical\n",
      "1  alice  21.0        ECE  Communication\n",
      "2    bob  20.0        CSE       Computer\n",
      "3    joe  21.0       CHEM            NaN\n",
      "4    NaN   NaN         IT    Information\n"
     ]
    }
   ],
   "source": [
    "# outer join\n",
    "df3 = pd.merge(df1,df2,on='department',how='outer')\n",
    "\n",
    "print(df3)"
   ]
  },
  {
   "cell_type": "code",
   "execution_count": null,
   "id": "fda855f7",
   "metadata": {},
   "outputs": [],
   "source": []
  }
 ],
 "metadata": {
  "kernelspec": {
   "display_name": "Python 3 (ipykernel)",
   "language": "python",
   "name": "python3"
  },
  "language_info": {
   "codemirror_mode": {
    "name": "ipython",
    "version": 3
   },
   "file_extension": ".py",
   "mimetype": "text/x-python",
   "name": "python",
   "nbconvert_exporter": "python",
   "pygments_lexer": "ipython3",
   "version": "3.7.3"
  }
 },
 "nbformat": 4,
 "nbformat_minor": 5
}
