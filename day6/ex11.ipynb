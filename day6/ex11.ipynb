{
 "cells": [
  {
   "cell_type": "code",
   "execution_count": 1,
   "id": "13a09598",
   "metadata": {},
   "outputs": [],
   "source": [
    "#Pandas is used for preparing,cleaning and analysing data\n",
    "\n",
    "#It has mainly two variables namely Series and DataFrame\n",
    "\n",
    "#Series is equivalent to list, but additionally has index\n",
    "\n",
    "#DataFrame is equivalent to spreadsheet i.e., it consists of rows and columns\n",
    "\n",
    "#Like any other python library pandas can be installed using pip\n",
    "\n",
    "# install pandas\n",
    "# from jupyter - !pip install pandas\n",
    "# from cmd - python (or) py -m pip install pandas"
   ]
  },
  {
   "cell_type": "code",
   "execution_count": 2,
   "id": "f1dccb1e",
   "metadata": {},
   "outputs": [
    {
     "name": "stdout",
     "output_type": "stream",
     "text": [
      "0        81\n",
      "1        46\n",
      "2        73\n",
      "3    python\n",
      "4        38\n",
      "5        91\n",
      "6       c++\n",
      "dtype: object\n"
     ]
    }
   ],
   "source": [
    "\"\"\" Creating a series with auto generated index\"\"\"\n",
    "\"\"\"Series - pandas function to create a series\"\"\"\n",
    "import pandas as pd\n",
    "\n",
    "s1 = pd.Series([81,46,73,'python',38,91,'c++'])\n",
    "\n",
    "# series can displayed using print function\n",
    "print(s1)"
   ]
  },
  {
   "cell_type": "code",
   "execution_count": 3,
   "id": "04db245b",
   "metadata": {},
   "outputs": [
    {
     "name": "stdout",
     "output_type": "stream",
     "text": [
      "A        81\n",
      "B        46\n",
      "C        73\n",
      "D    python\n",
      "E        38\n",
      "F        91\n",
      "G       c++\n",
      "dtype: object\n"
     ]
    }
   ],
   "source": [
    "\"\"\" Creating a series with custom index\"\"\"\n",
    "import pandas as pd\n",
    "\n",
    "# custom index is passed as a list using index parameter of Series function\n",
    "# Example below\n",
    "s1 = pd.Series([81,46,73,'python',38,91,'c++'],index=['A','B','C','D','E','F','G'])\n",
    "\n",
    "# series can displayed using print function\n",
    "print(s1)"
   ]
  },
  {
   "cell_type": "code",
   "execution_count": 4,
   "id": "1c9b29e2",
   "metadata": {},
   "outputs": [
    {
     "name": "stdout",
     "output_type": "stream",
     "text": [
      "            0    1    2   3\n",
      "0     ABC LLC  150  200  50\n",
      "1     Beta Co  200  210  90\n",
      "2  Yellow Inc  140  215  95\n"
     ]
    }
   ],
   "source": [
    "\"\"\"create a dataframe\"\"\"\n",
    "\"\"\"DataFrame - pandas function to create a dataframe\"\"\"\n",
    "import pandas as pd\n",
    "\n",
    "#creating a dataframe using pandas DataFrame function\n",
    "# Both row index and column index are auto generated\n",
    "sales = [('ABC LLC', 150, 200, 50),\n",
    "         ('Beta Co', 200, 210, 90),\n",
    "         ('Yellow Inc', 140, 215, 95)]\n",
    "df = pd.DataFrame(sales)\n",
    "\n",
    "# dataframe can be displayed using print function\n",
    "print(df)"
   ]
  },
  {
   "cell_type": "code",
   "execution_count": 5,
   "id": "e3ee316b",
   "metadata": {},
   "outputs": [
    {
     "name": "stdout",
     "output_type": "stream",
     "text": [
      "      account  apr  may  jun\n",
      "0     ABC LLC  150  200   50\n",
      "1     Beta Co  200  210   90\n",
      "2  Yellow Inc  140  215   95\n"
     ]
    }
   ],
   "source": [
    "\"\"\"create a dataframe using custom column headers\"\"\"\n",
    "\n",
    "import pandas as pd\n",
    "\n",
    "#creating a dataframe using pandas DataFrame function\n",
    "# Both row index and column index are auto generated\n",
    "sales = [('ABC LLC', 150, 200, 50),\n",
    "         ('Beta Co', 200, 210, 90),\n",
    "         ('Yellow Inc', 140, 215, 95)]\n",
    "\n",
    "headers = ['account','apr','may','jun'] # column headers as list\n",
    "# dataframe can be created custom column headers by passing a list to 'columns' parameter of DataFrame function\n",
    "df = pd.DataFrame(sales,columns=headers)\n",
    "\n",
    "# dataframe can be displayed using print function\n",
    "print(df)"
   ]
  },
  {
   "cell_type": "code",
   "execution_count": 6,
   "id": "b62018f8",
   "metadata": {},
   "outputs": [
    {
     "name": "stdout",
     "output_type": "stream",
     "text": [
      "            apr  may  jun\n",
      "account                  \n",
      "ABC LLC     150  200   50\n",
      "Beta Co     200  210   90\n",
      "Yellow Inc  140  215   95\n"
     ]
    }
   ],
   "source": [
    "\"\"\"modify the row index with any of the existing column\"\"\"\n",
    "\n",
    "df = df.set_index('account') # reset the index value using 'account' column\n",
    "\n",
    "print(df)"
   ]
  },
  {
   "cell_type": "code",
   "execution_count": 8,
   "id": "4d678e64",
   "metadata": {},
   "outputs": [
    {
     "data": {
      "image/png": "[encoded data removed]",
      "text/plain": [
       "<Figure size 432x288 with 1 Axes>"
      ]
     },
     "metadata": {
      "needs_background": "light"
     },
     "output_type": "display_data"
    }
   ],
   "source": [
    "# matplotlib - python plotting library. used for plotting in pandas\n",
    "import matplotlib.pyplot as plt\n",
    "\n",
    "df.plot(kind='bar') # plot against account\n",
    "\n",
    "plt.show()"
   ]
  },
  {
   "cell_type": "code",
   "execution_count": null,
   "id": "09fc8c7f",
   "metadata": {},
   "outputs": [],
   "source": []
  }
 ],
 "metadata": {
  "kernelspec": {
   "display_name": "Python 3 (ipykernel)",
   "language": "python",
   "name": "python3"
  },
  "language_info": {
   "codemirror_mode": {
    "name": "ipython",
    "version": 3
   },
   "file_extension": ".py",
   "mimetype": "text/x-python",
   "name": "python",
   "nbconvert_exporter": "python",
   "pygments_lexer": "ipython3",
   "version": "3.7.3"
  }
 },
 "nbformat": 4,
 "nbformat_minor": 5
}
