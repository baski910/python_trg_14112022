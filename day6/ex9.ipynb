{
 "cells": [
  {
   "cell_type": "code",
   "execution_count": 1,
   "id": "37490c65",
   "metadata": {},
   "outputs": [],
   "source": [
    "# JSON - java script object notation\n",
    "#        defacto standard for exchanging information between different applications\n",
    "# json - python module to work with json\n",
    "#\n",
    "# dump - writes an python object to a file object as json string \n",
    "#\n",
    "# load - returns a python object from a file object with json string\n",
    "#\n",
    "# dumps - returns json string from python object\n",
    "#\n",
    "# loads - returns python object from a json string"
   ]
  },
  {
   "cell_type": "code",
   "execution_count": 2,
   "id": "3304e2b0",
   "metadata": {},
   "outputs": [
    {
     "name": "stdout",
     "output_type": "stream",
     "text": [
      "<class 'str'>\n",
      "<class 'dict'>\n",
      "{'name': 'alice', 'age': 12, 'school': 'cps school'}\n"
     ]
    }
   ],
   "source": [
    "import json\n",
    "s1 = '{\"name\": \"alice\",\"age\": 12, \"school\": \"cps school\"}'\n",
    "\n",
    "print(type(s1))\n",
    "\n",
    "d1 = json.loads(s1)\n",
    "\n",
    "print(type(d1))\n",
    "print(d1)"
   ]
  },
  {
   "cell_type": "code",
   "execution_count": null,
   "id": "df48bf58",
   "metadata": {},
   "outputs": [],
   "source": []
  }
 ],
 "metadata": {
  "kernelspec": {
   "display_name": "Python 3 (ipykernel)",
   "language": "python",
   "name": "python3"
  },
  "language_info": {
   "codemirror_mode": {
    "name": "ipython",
    "version": 3
   },
   "file_extension": ".py",
   "mimetype": "text/x-python",
   "name": "python",
   "nbconvert_exporter": "python",
   "pygments_lexer": "ipython3",
   "version": "3.7.3"
  }
 },
 "nbformat": 4,
 "nbformat_minor": 5
}
