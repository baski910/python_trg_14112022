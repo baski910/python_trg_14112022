{
 "cells": [
  {
   "cell_type": "code",
   "execution_count": null,
   "id": "4f4b91e2",
   "metadata": {},
   "outputs": [],
   "source": [
    "# filtering pandas dataframe\n",
    "# iloc -  filters using row index or column index\n",
    "# loc - filters based on row values\n",
    "\n",
    "import pandas as pd\n",
    "\n",
    "df = pd.read_csv('uk-500.csv') # reading csv file\n",
    "\n",
    "\n",
    "# get the first row\n",
    "print(df.iloc[0])"
   ]
  },
  {
   "cell_type": "code",
   "execution_count": null,
   "id": "53277d93",
   "metadata": {},
   "outputs": [],
   "source": [
    "# get last row\n",
    "print(df.iloc[-1])"
   ]
  },
  {
   "cell_type": "code",
   "execution_count": null,
   "id": "fcf76e8b",
   "metadata": {},
   "outputs": [],
   "source": [
    "# get range of row e.g., rows 10-15\n",
    "print(df.iloc[10:15])"
   ]
  },
  {
   "cell_type": "code",
   "execution_count": null,
   "id": "84bf5df2",
   "metadata": {},
   "outputs": [],
   "source": [
    "# selective rows - row numbers are passed as a list\n",
    "print(df.iloc[[28,51,73,95,110]])"
   ]
  },
  {
   "cell_type": "code",
   "execution_count": null,
   "id": "8aa0372e",
   "metadata": {},
   "outputs": [],
   "source": [
    "# select the 2nd column\n",
    "\n",
    "print(df.iloc[:,1])"
   ]
  },
  {
   "cell_type": "code",
   "execution_count": null,
   "id": "2dcded40",
   "metadata": {},
   "outputs": [],
   "source": [
    "# get range of columns 1:4\n",
    "\n",
    "print(df.iloc[:,1:4])"
   ]
  },
  {
   "cell_type": "code",
   "execution_count": null,
   "id": "d864ef53",
   "metadata": {},
   "outputs": [],
   "source": [
    "# select row using values\n",
    "# select all rows where email ends with 'gmail.com'\n",
    "\n",
    "print(df.loc[df['email'].str.endswith('gmail.com')])"
   ]
  },
  {
   "cell_type": "code",
   "execution_count": 9,
   "id": "02db6fce",
   "metadata": {},
   "outputs": [
    {
     "name": "stdout",
     "output_type": "stream",
     "text": [
      "      first_name  last_name                       email\n",
      "1           Evan  Zigomalas    evan.zigomalas@gmail.com\n",
      "11   Charlesetta        Erm   charlesetta_erm@gmail.com\n",
      "12      Corrinne      Jaret    corrinne_jaret@gmail.com\n",
      "29         Karma     Quarto           kquarto@gmail.com\n",
      "32         Milly    Savidge             milly@gmail.com\n",
      "..           ...        ...                         ...\n",
      "472          Mel   Picciuto      mel.picciuto@gmail.com\n",
      "480      Tijuana   Machalek  tijuana.machalek@gmail.com\n",
      "483      Derrick    Dolloff   derrick_dolloff@gmail.com\n",
      "494       Alesia      Katie      alesia_katie@gmail.com\n",
      "498    Celestina      Keeny   celestina_keeny@gmail.com\n",
      "\n",
      "[130 rows x 3 columns]\n"
     ]
    }
   ],
   "source": [
    "# select columns with row values\n",
    "\n",
    "print(df.loc[df['email'].str.endswith('gmail.com'), ['first_name','last_name','email']])"
   ]
  },
  {
   "cell_type": "code",
   "execution_count": null,
   "id": "330da2d5",
   "metadata": {},
   "outputs": [],
   "source": []
  }
 ],
 "metadata": {
  "kernelspec": {
   "display_name": "Python 3 (ipykernel)",
   "language": "python",
   "name": "python3"
  },
  "language_info": {
   "codemirror_mode": {
    "name": "ipython",
    "version": 3
   },
   "file_extension": ".py",
   "mimetype": "text/x-python",
   "name": "python",
   "nbconvert_exporter": "python",
   "pygments_lexer": "ipython3",
   "version": "3.7.3"
  }
 },
 "nbformat": 4,
 "nbformat_minor": 5
}
