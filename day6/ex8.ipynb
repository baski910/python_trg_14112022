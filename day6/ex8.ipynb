{
 "cells": [
  {
   "cell_type": "code",
   "execution_count": 1,
   "id": "ee14ab48",
   "metadata": {},
   "outputs": [],
   "source": [
    "# JSON - java script object notation\n",
    "#        defacto standard for exchanging information between different applications\n",
    "# json - python module to work with json\n",
    "#\n",
    "# dump - writes an python object to a file object as json string \n",
    "#\n",
    "# load - returns a python object from a file object with json string\n",
    "#\n",
    "# dumps - returns json string from python object\n",
    "#\n",
    "# loads - returns python object from a json string"
   ]
  },
  {
   "cell_type": "code",
   "execution_count": 2,
   "id": "d132472c",
   "metadata": {},
   "outputs": [],
   "source": [
    "import json\n",
    "\n",
    "d1 = {\"name\": \"alice\",\"age\": 12, \"school\": \"cps school\"}\n",
    "\n",
    "# with(open(\"d1.json\",\"w\")) as fh:\n",
    "#     json.dump(d1,fh)\n",
    "\n",
    "fh = open(\"d1.json\",\"w\")\n",
    "\n",
    "json.dump(d1,fh)\n",
    "\n",
    "fh.close()  "
   ]
  },
  {
   "cell_type": "code",
   "execution_count": null,
   "id": "3aefaa8b",
   "metadata": {},
   "outputs": [],
   "source": [
    "fh = open(\"d1.json\",\"r\")\n",
    "\n",
    "d2 = json.load(fh)\n",
    "\n",
    "print"
   ]
  }
 ],
 "metadata": {
  "kernelspec": {
   "display_name": "Python 3 (ipykernel)",
   "language": "python",
   "name": "python3"
  },
  "language_info": {
   "codemirror_mode": {
    "name": "ipython",
    "version": 3
   },
   "file_extension": ".py",
   "mimetype": "text/x-python",
   "name": "python",
   "nbconvert_exporter": "python",
   "pygments_lexer": "ipython3",
   "version": "3.7.3"
  }
 },
 "nbformat": 4,
 "nbformat_minor": 5
}
