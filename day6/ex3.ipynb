{
 "cells": [
  {
   "cell_type": "code",
   "execution_count": 1,
   "id": "7b851a62",
   "metadata": {},
   "outputs": [],
   "source": [
    "######################################################\n",
    "# regular expression - user defined expression to match\n",
    "#                      extract from the given input\n",
    "# metacharacters - . * + ? {} () [] \\w \\d \\b ^ $\n",
    "#\n",
    "# re - module used to work with regular expression\n",
    "# www.mydomain.com - www.(....).com\n",
    "#                    .*\\.(.*)\\..*\n",
    "########################################################"
   ]
  },
  {
   "cell_type": "code",
   "execution_count": 5,
   "id": "8ca3bc69",
   "metadata": {},
   "outputs": [
    {
     "name": "stdout",
     "output_type": "stream",
     "text": [
      "Enter a string\n",
      "www.mydomain.co.in\n",
      "The matched portion is: co\n"
     ]
    }
   ],
   "source": [
    "import re\n",
    "\n",
    "s1 = input(\"Enter a string\\n\")\n",
    "\n",
    "sobj = re.search(r'.*\\.(.*)\\..*',s1) # a regex with single parenthesis\n",
    "#sobj = re.search(r'.*\\.(.*)\\.(.*)',s1) # regex with more than one parenthesis\n",
    "\n",
    "if sobj:\n",
    "    domain = sobj.group(1) # returns characters between 2 dot\n",
    "    print(\"The matched portion is:\",domain)\n",
    "    #print(sobj.group(2))\n",
    "else:\n",
    "    print(\"not matched\")"
   ]
  },
  {
   "cell_type": "code",
   "execution_count": null,
   "id": "06b3ed15",
   "metadata": {},
   "outputs": [],
   "source": []
  }
 ],
 "metadata": {
  "kernelspec": {
   "display_name": "Python 3 (ipykernel)",
   "language": "python",
   "name": "python3"
  },
  "language_info": {
   "codemirror_mode": {
    "name": "ipython",
    "version": 3
   },
   "file_extension": ".py",
   "mimetype": "text/x-python",
   "name": "python",
   "nbconvert_exporter": "python",
   "pygments_lexer": "ipython3",
   "version": "3.7.3"
  }
 },
 "nbformat": 4,
 "nbformat_minor": 5
}
