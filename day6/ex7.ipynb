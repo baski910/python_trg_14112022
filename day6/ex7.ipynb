{
 "cells": [
  {
   "cell_type": "code",
   "execution_count": 1,
   "id": "dd14d892",
   "metadata": {},
   "outputs": [],
   "source": [
    "# absolute match using '\\b'\n",
    "# match pattern as a separte word/pattern"
   ]
  },
  {
   "cell_type": "code",
   "execution_count": 5,
   "id": "210f10a7",
   "metadata": {},
   "outputs": [
    {
     "name": "stdout",
     "output_type": "stream",
     "text": [
      "Enter a string\n",
      "helloworld\n",
      "not matched\n"
     ]
    }
   ],
   "source": [
    "import re\n",
    "\n",
    "s1 = input(\"Enter a string\\n\")\n",
    "\n",
    "sobj = re.search(r\"\\bhello\\b\",s1)\n",
    "\n",
    "if sobj:\n",
    "    print(\"matched\")\n",
    "else:\n",
    "    print(\"not matched\")"
   ]
  },
  {
   "cell_type": "code",
   "execution_count": null,
   "id": "cf6bd755",
   "metadata": {},
   "outputs": [],
   "source": []
  }
 ],
 "metadata": {
  "kernelspec": {
   "display_name": "Python 3 (ipykernel)",
   "language": "python",
   "name": "python3"
  },
  "language_info": {
   "codemirror_mode": {
    "name": "ipython",
    "version": 3
   },
   "file_extension": ".py",
   "mimetype": "text/x-python",
   "name": "python",
   "nbconvert_exporter": "python",
   "pygments_lexer": "ipython3",
   "version": "3.7.3"
  }
 },
 "nbformat": 4,
 "nbformat_minor": 5
}
