{
 "cells": [
  {
   "cell_type": "code",
   "execution_count": 1,
   "id": "968f5516",
   "metadata": {},
   "outputs": [],
   "source": [
    "# lambda - keyword which returns function reference\n",
    "#          used for creating anonymous functions (i.e., functions without name)\n",
    "# lambda-reference = lambda p1,p2,p3.... :  body of the function\n",
    "# lambda-reference(p1,p2,p3,...)"
   ]
  },
  {
   "cell_type": "code",
   "execution_count": 3,
   "id": "448b6b40",
   "metadata": {},
   "outputs": [
    {
     "name": "stdout",
     "output_type": "stream",
     "text": [
      "<function <lambda> at 0x7f39e871f1e0>\n",
      "340\n"
     ]
    }
   ],
   "source": [
    "square = lambda x,y: x*x + y*y\n",
    "\n",
    "print(square) # returns lambda reference\n",
    "\n",
    "print(square(14,12)) # returns 196"
   ]
  },
  {
   "cell_type": "code",
   "execution_count": 4,
   "id": "9a385514",
   "metadata": {},
   "outputs": [],
   "source": [
    "######################################################\n",
    "# regular expression - user defined expression to match\n",
    "#                      extract from the given input\n",
    "# metacharacters - . * + ? {} () [] \\w \\d \\b ^ $\n",
    "#\n",
    "# re - module used to work with regular expression\n",
    "# \n",
    "# match - takes 3 arguments. 3rd argument is optional\n",
    "#         1st param - regular expression\n",
    "#         2nd param - string to be matched\n",
    "#         3rd param - flags\n",
    "#         matches a single line.\n",
    "#         return match object on success or False on failure\n",
    "#\n",
    "# search - takes 3 arguments. 3rd argument is optional\n",
    "#         1st param - regular expression\n",
    "#         2nd param - string to be matched\n",
    "#         3rd param - flags\n",
    "#         matches a against multiple lines\n",
    "#         return match object on success or False on failure\n",
    "########################################################"
   ]
  },
  {
   "cell_type": "code",
   "execution_count": 6,
   "id": "f1a6dbec",
   "metadata": {},
   "outputs": [
    {
     "name": "stdout",
     "output_type": "stream",
     "text": [
      "Vim for Debian\n",
      "\n",
      "---------------\n",
      "\n",
      "1. The current Debian Vim scripts policy can be found in the vim-doc package\n",
      "\n",
      "   under /usr/share/doc/vim-common and\n",
      "\n",
      "   <http://pkg-vim.alioth.debian.org/vim-policy.html/>.\n",
      "\n",
      "2. Before reporting bugs, check if the bug also exists if you run vim\n",
      "\n",
      "   with \"vim -u NONE -U NONE\". If not, make sure that the \"bug\" is not\n",
      "\n",
      "   a result of a setting in your ~/.vimrc before reporting it.\n",
      "\n",
      " -- Stefano Zacchiroli <zack@debian.org>   Mon, 10 Apr 2006 09:59:41 -0400\n",
      "\n",
      "MzScheme Vim variant\n",
      "\n",
      "--------------------\n",
      "\n",
      "As requested by the current MzScheme maintainer (Ari Pollak <ari@debian.org>),\n",
      "\n",
      "a vim-mzscheme variant is not being built.  The reasons stated are as follows:\n",
      "\n",
      "  1) MzScheme does not build on many of Debian's supported architectures.\n",
      "\n",
      "  2) The MzScheme package is not versioned based on the library.\n",
      "\n",
      "  3) The MzScheme ABI changes with every upstream version.\n",
      "\n",
      " -- James Vega <jamessan@debian.org> Mon, 10  Apr  2006  09:48:25  -0400\n",
      "\n",
      "Modeline support disabled by default\n",
      "\n",
      "------------------------------------\n",
      "\n",
      "Modelines have historically been a source of security/resource vulnerabilities\n",
      "\n",
      "and are therefore disabled by default in $VIMRUNTIME/debian.vim.\n",
      "\n",
      "You can enable them in ~/.vimrc or /etc/vim/vimrc with \"set modeline\".\n",
      "\n",
      "In order to mimic Vim's default setting (modelines disabled when root, enabled\n",
      "\n",
      "otherwise), you may instead want to use the following snippet:\n",
      "\n",
      "  if $USER != 'root'\n",
      "\n",
      "    set modeline\n",
      "\n",
      "  else\n",
      "\n",
      "    set nomodeline\n",
      "\n",
      "  endif\n",
      "\n",
      "The securemodelines script from vim.org (and in the vim-scripts package) may\n",
      "\n",
      "also be of interest as it provides a way to whitelist exactly which options\n",
      "\n",
      "may be set from a modeline.\n",
      "\n",
      " -- James Vega <jamessan@debian.org>  Sun, 04 May 2008 03:11:51 -0400\n",
      "\n",
      "Number of non-blank lines: 33\n"
     ]
    }
   ],
   "source": [
    "import re\n",
    "\n",
    "fh = open('readme.txt','r')\n",
    "\n",
    "count = 0\n",
    "\n",
    "for line in fh.readlines():\n",
    "    sobj = re.search(r'^\\s*$',line) # regular expression to match an empty line\n",
    "    # ^ - search at the beginning\n",
    "    # \\s - matches a space\n",
    "    # * - quantifies preceeding pattern zero or more times\n",
    "    # $ - search at the end\n",
    "    \n",
    "    if not sobj: # matches line with content\n",
    "        print(line)\n",
    "        count += 1\n",
    "        \n",
    "fh.close()\n",
    "print(\"Number of non-blank lines:\",count)"
   ]
  },
  {
   "cell_type": "code",
   "execution_count": null,
   "id": "cc852293",
   "metadata": {},
   "outputs": [],
   "source": []
  }
 ],
 "metadata": {
  "kernelspec": {
   "display_name": "Python 3 (ipykernel)",
   "language": "python",
   "name": "python3"
  },
  "language_info": {
   "codemirror_mode": {
    "name": "ipython",
    "version": 3
   },
   "file_extension": ".py",
   "mimetype": "text/x-python",
   "name": "python",
   "nbconvert_exporter": "python",
   "pygments_lexer": "ipython3",
   "version": "3.7.3"
  }
 },
 "nbformat": 4,
 "nbformat_minor": 5
}
