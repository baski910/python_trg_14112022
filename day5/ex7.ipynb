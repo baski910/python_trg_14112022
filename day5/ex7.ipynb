{
 "cells": [
  {
   "cell_type": "code",
   "execution_count": 3,
   "id": "6f2d9f5d",
   "metadata": {},
   "outputs": [
    {
     "name": "stdout",
     "output_type": "stream",
     "text": [
      "parameters are: 19 25\n",
      "parameters are: 26 31\n",
      "Point destroyed\n",
      "Point destroyed\n"
     ]
    }
   ],
   "source": [
    "\"\"\"destructors\"\"\"\n",
    "\n",
    "# functions declared inside a class are called methods\n",
    "# the first parameter to methods are assigned with the object reference\n",
    "class Point:\n",
    "    \"\"\"this is an example class\"\"\"\n",
    "    def __init__(self,xval,yval): # passing parameters to constructors\n",
    "        self.x = xval # variables created with object reference are called instance attributes\n",
    "        self.y = yval # variables created with object reference are called instance attributes\n",
    "        \n",
    "    # example for instance method (bound method)\n",
    "    def showValues(self):\n",
    "        # display instance attributes\n",
    "        print(\"parameters are:\",self.x,self.y)\n",
    "        \n",
    "        \n",
    "    def __del__(self):\n",
    "        print(\"{} destroyed\".format(self.__class__.__name__))\n",
    "        \n",
    "if __name__ == '__main__':\n",
    "    p1 = Point(19,25)\n",
    "    # call the object method\n",
    "    p1.showValues()\n",
    "    \n",
    "    \n",
    "    p2 = Point(26,31)\n",
    "    p2.showValues()\n",
    "    \n",
    "    del p1,p2 # explicitly deleting the objects"
   ]
  },
  {
   "cell_type": "code",
   "execution_count": null,
   "id": "cf1b15d6",
   "metadata": {},
   "outputs": [],
   "source": []
  }
 ],
 "metadata": {
  "kernelspec": {
   "display_name": "Python 3 (ipykernel)",
   "language": "python",
   "name": "python3"
  },
  "language_info": {
   "codemirror_mode": {
    "name": "ipython",
    "version": 3
   },
   "file_extension": ".py",
   "mimetype": "text/x-python",
   "name": "python",
   "nbconvert_exporter": "python",
   "pygments_lexer": "ipython3",
   "version": "3.7.3"
  }
 },
 "nbformat": 4,
 "nbformat_minor": 5
}
