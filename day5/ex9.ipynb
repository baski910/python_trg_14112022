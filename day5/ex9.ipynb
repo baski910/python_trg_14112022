{
 "cells": [
  {
   "cell_type": "code",
   "execution_count": 1,
   "id": "9d59e9e8",
   "metadata": {},
   "outputs": [
    {
     "name": "stdout",
     "output_type": "stream",
     "text": [
      "from A\n"
     ]
    }
   ],
   "source": [
    "# single inheritance\n",
    "\n",
    "class A:\n",
    "    def printString(self):\n",
    "        print(\"from A\")\n",
    "        \n",
    "class B(A): # B is the child of A\n",
    "    pass\n",
    "\n",
    "if __name__ == '__main__':\n",
    "    obj = B()\n",
    "    obj.printString()"
   ]
  },
  {
   "cell_type": "code",
   "execution_count": null,
   "id": "582a15c5",
   "metadata": {},
   "outputs": [],
   "source": []
  }
 ],
 "metadata": {
  "kernelspec": {
   "display_name": "Python 3 (ipykernel)",
   "language": "python",
   "name": "python3"
  },
  "language_info": {
   "codemirror_mode": {
    "name": "ipython",
    "version": 3
   },
   "file_extension": ".py",
   "mimetype": "text/x-python",
   "name": "python",
   "nbconvert_exporter": "python",
   "pygments_lexer": "ipython3",
   "version": "3.7.3"
  }
 },
 "nbformat": 4,
 "nbformat_minor": 5
}
