{
 "cells": [
  {
   "cell_type": "code",
   "execution_count": 4,
   "id": "4d6466ab",
   "metadata": {},
   "outputs": [
    {
     "name": "stdout",
     "output_type": "stream",
     "text": [
      "Enter a numberhello\n",
      "Not a valid entry\n",
      "Enter a number30\n",
      "30\n",
      "script continues here ...\n"
     ]
    }
   ],
   "source": [
    "# exception handling\n",
    "# try:\n",
    "#     TODO\n",
    "# except ErrorClass:\n",
    "#     TODO\n",
    "# else:\n",
    "#    TODO (excuted only when try succeeds)\n",
    "# finally:\n",
    "#    TODO (excuted always)\n",
    "while True:\n",
    "    try:\n",
    "        x=int(input(\"Enter a number\"))\n",
    "        print(x)\n",
    "        break\n",
    "    except ValueError:\n",
    "        print(\"Not a valid entry\")\n",
    "         \n",
    "            \n",
    "print(\"script continues here ...\")"
   ]
  },
  {
   "cell_type": "code",
   "execution_count": 5,
   "id": "3b730a24",
   "metadata": {},
   "outputs": [
    {
     "name": "stdout",
     "output_type": "stream",
     "text": [
      "Enter a numberhello\n",
      "Not a valid entry (<class 'ValueError'>, ValueError(\"invalid literal for int() with base 10: 'hello'\"), <traceback object at 0x7f00cc461dc8>)\n"
     ]
    }
   ],
   "source": [
    "# use sys for getting the error class\n",
    "import sys\n",
    "try:\n",
    "    x=int(input(\"Enter a number\"))\n",
    "    print(x)\n",
    "except ValueError:\n",
    "    print(\"Not a valid entry\",sys.exc_info())"
   ]
  },
  {
   "cell_type": "code",
   "execution_count": 11,
   "id": "12dc5dae",
   "metadata": {},
   "outputs": [
    {
     "name": "stdout",
     "output_type": "stream",
     "text": [
      "220\n",
      "executed only when try succeeds\n"
     ]
    }
   ],
   "source": [
    "# try clause with multiple exception blocks\n",
    "import sys\n",
    "try:\n",
    "    f = open('myfile.txt','r')\n",
    "    s = f.readline()\n",
    "    i = int(s.strip())\n",
    "    \n",
    "except IOError as e:\n",
    "    print(\"I/O error({0}): {1}\".format(e.errno, e.strerror))\n",
    "except ValueError:\n",
    "    print(\"Could not convert data to an integer.\") \n",
    "except:\n",
    "    print(\"Unexpected error:\", sys.exc_info()[0]) \n",
    "else:\n",
    "    print(i)\n",
    "    print(\"executed only when try succeeds\")"
   ]
  },
  {
   "cell_type": "code",
   "execution_count": 13,
   "id": "0a80f713",
   "metadata": {},
   "outputs": [
    {
     "name": "stdout",
     "output_type": "stream",
     "text": [
      "negative value not accepted\n"
     ]
    }
   ],
   "source": [
    "# raise - used for converting custom conditions to exception. Delegates the responisbility to calling function\n",
    "\n",
    "def calculateinterest(p,n,r):\n",
    "    if r<0:\n",
    "        raise ValueError\n",
    "    if n<0:\n",
    "        raise ValueError\n",
    "        \n",
    "    return p*n*r/100\n",
    "\n",
    "\n",
    "try:\n",
    "    total = calculateinterest(1000,-2,6)\n",
    "except ValueError:\n",
    "    print(\"negative value not accepted\")\n"
   ]
  },
  {
   "cell_type": "code",
   "execution_count": 14,
   "id": "0f715ce3",
   "metadata": {},
   "outputs": [
    {
     "name": "stdout",
     "output_type": "stream",
     "text": [
      "num of yrs negative\n"
     ]
    }
   ],
   "source": [
    "# custom exception takes Exception as base class\n",
    "\n",
    "class CustomException(Exception):\n",
    "    def __init__(self,msg):\n",
    "        self.msg = msg\n",
    "    def __repr__(self):\n",
    "        return self.msg\n",
    "\n",
    "def calculateinterest(p,n,r):\n",
    "    if r<0:\n",
    "        raise CustomException(\"rate of int negative\")\n",
    "    if n<0:\n",
    "        raise CustomException(\"num of yrs negative\")\n",
    "        \n",
    "    return p*n*r/100\n",
    "\n",
    "\n",
    "try:\n",
    "    total = calculateinterest(1000,-2,6)\n",
    "except CustomException as e:\n",
    "    print(e)"
   ]
  },
  {
   "cell_type": "code",
   "execution_count": null,
   "id": "be0f0e0d",
   "metadata": {},
   "outputs": [
    {
     "name": "stdout",
     "output_type": "stream",
     "text": [
      "hello\n"
     ]
    }
   ],
   "source": [
    "# finally - will always be excuted\n",
    "\n",
    "import time\n",
    "\n",
    "try:\n",
    "    count = 0\n",
    "    while True:\n",
    "        count += 1\n",
    "        print(\"hello\")\n",
    "        if count == 5:\n",
    "            break\n",
    "        else:\n",
    "            time.sleep(2)\n",
    "except KeyboardInterrupt:\n",
    "    print(\"ctrl and c pressed\")\n",
    "finally:\n",
    "    print(\"will always be excuted\")\n",
    "    "
   ]
  },
  {
   "cell_type": "code",
   "execution_count": null,
   "id": "d83cfcb7",
   "metadata": {},
   "outputs": [],
   "source": []
  }
 ],
 "metadata": {
  "kernelspec": {
   "display_name": "Python 3 (ipykernel)",
   "language": "python",
   "name": "python3"
  },
  "language_info": {
   "codemirror_mode": {
    "name": "ipython",
    "version": 3
   },
   "file_extension": ".py",
   "mimetype": "text/x-python",
   "name": "python",
   "nbconvert_exporter": "python",
   "pygments_lexer": "ipython3",
   "version": "3.7.3"
  }
 },
 "nbformat": 4,
 "nbformat_minor": 5
}
