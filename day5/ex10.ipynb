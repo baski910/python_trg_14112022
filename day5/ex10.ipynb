{
 "cells": [
  {
   "cell_type": "code",
   "execution_count": 3,
   "id": "a0ebf511",
   "metadata": {},
   "outputs": [
    {
     "name": "stdout",
     "output_type": "stream",
     "text": [
      "from A\n",
      "from B\n",
      "from child class\n"
     ]
    }
   ],
   "source": [
    "# method overriding - re implementating methods of parent class in child class\n",
    "#                     calling re-implemented method using child class object will call child class version\n",
    "#                     'super' can be used for calling parent class method\n",
    "\n",
    "class A:\n",
    "    def printString(self):\n",
    "        print(\"from A\")\n",
    "        \n",
    "class B(A): # B is the child of A\n",
    "    def printString(self): # overrides parent class method\n",
    "        super().printString() # call parent class version\n",
    "        print(\"from B\")\n",
    "    def showString(self):\n",
    "        print(\"from child class\")\n",
    "\n",
    "if __name__ == '__main__':\n",
    "    obj = B()\n",
    "    obj.printString()\n",
    "    obj.showString()"
   ]
  },
  {
   "cell_type": "code",
   "execution_count": null,
   "id": "3dbe0662",
   "metadata": {},
   "outputs": [],
   "source": []
  }
 ],
 "metadata": {
  "kernelspec": {
   "display_name": "Python 3 (ipykernel)",
   "language": "python",
   "name": "python3"
  },
  "language_info": {
   "codemirror_mode": {
    "name": "ipython",
    "version": 3
   },
   "file_extension": ".py",
   "mimetype": "text/x-python",
   "name": "python",
   "nbconvert_exporter": "python",
   "pygments_lexer": "ipython3",
   "version": "3.7.3"
  }
 },
 "nbformat": 4,
 "nbformat_minor": 5
}
