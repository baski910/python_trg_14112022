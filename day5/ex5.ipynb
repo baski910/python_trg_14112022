{
 "cells": [
  {
   "cell_type": "code",
   "execution_count": 2,
   "id": "77fa95f7",
   "metadata": {},
   "outputs": [
    {
     "name": "stdout",
     "output_type": "stream",
     "text": [
      "instance attributes of p1\n",
      "instance attributes: 19 25\n",
      "accessing instance attributes: 19 25\n",
      "instance attributes of p2\n",
      "instance attributes: 26 31\n",
      "accessing instance attributes: 26 31\n"
     ]
    }
   ],
   "source": [
    "\"\"\"Creating constructors with parameters\"\"\"\n",
    "\n",
    "# functions declared inside a class are called methods\n",
    "# the first parameter to methods are assigned with the object reference\n",
    "class Point:\n",
    "    \"\"\"this is an example class\"\"\"\n",
    "    def __init__(self,xval,yval): # this special method is called constrcutor and automatically invoked at the time creating instances\n",
    "        self.x = xval # variables created with object reference are called instance attributes\n",
    "        self.y = yval # variables created with object reference are called instance attributes\n",
    "        \n",
    "    # example for instance method (bound method)\n",
    "    def showValues(self):\n",
    "        # display instance attributes\n",
    "        print(\"instance attributes:\",self.x,self.y)\n",
    "        \n",
    "    def anotherMethod(self):\n",
    "        print(\"accessing instance attributes:\",self.x,self.y)\n",
    "\n",
    "if __name__ == '__main__':\n",
    "    p1 = Point(19,25)\n",
    "    # call the object method\n",
    "    print(\"instance attributes of p1\")\n",
    "    p1.showValues()\n",
    "    p1.anotherMethod()\n",
    "    \n",
    "    p2 = Point(26,31)\n",
    "    print(\"instance attributes of p2\")\n",
    "    p2.showValues()\n",
    "    p2.anotherMethod()"
   ]
  },
  {
   "cell_type": "code",
   "execution_count": null,
   "id": "0938ae98",
   "metadata": {},
   "outputs": [],
   "source": []
  }
 ],
 "metadata": {
  "kernelspec": {
   "display_name": "Python 3 (ipykernel)",
   "language": "python",
   "name": "python3"
  },
  "language_info": {
   "codemirror_mode": {
    "name": "ipython",
    "version": 3
   },
   "file_extension": ".py",
   "mimetype": "text/x-python",
   "name": "python",
   "nbconvert_exporter": "python",
   "pygments_lexer": "ipython3",
   "version": "3.7.3"
  }
 },
 "nbformat": 4,
 "nbformat_minor": 5
}
