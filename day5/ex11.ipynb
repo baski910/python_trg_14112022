{
 "cells": [
  {
   "cell_type": "code",
   "execution_count": 6,
   "id": "2a774722",
   "metadata": {},
   "outputs": [
    {
     "name": "stdout",
     "output_type": "stream",
     "text": [
      "(<class '__main__.B'>, <class '__main__.A'>, <class '__main__.F'>, <class '__main__.C'>, <class '__main__.E'>, <class 'object'>)\n",
      "from F\n"
     ]
    }
   ],
   "source": [
    "# same function being implemented in multiple parent class and the function not re-implmented in child class\n",
    "# Method Resolution Order is the technique to resolve the ambuiguity when instance of child class is created and\n",
    "# the function implemented in multiple parent class is called through child class instance\n",
    "class E:\n",
    "    def printString(self):\n",
    "        print(\"from E\")\n",
    "        \n",
    "class F:\n",
    "    def printString(self):\n",
    "        print(\"from F\")\n",
    "\n",
    "class A(F):\n",
    "    pass\n",
    "    #def printString(self):\n",
    "    #    print(\"from A\")\n",
    "        \n",
    "class C(E):\n",
    "    #pass\n",
    "    def printString(self):\n",
    "        print(\"from C\")\n",
    "        \n",
    "        \n",
    "class B(A,C):\n",
    "    pass\n",
    "\n",
    "if __name__ == '__main__':\n",
    "    obj = B()\n",
    "    print(B.__mro__) # method resolution order - resolves the appropriate version to be invoked\n",
    "    obj.printString()"
   ]
  },
  {
   "cell_type": "code",
   "execution_count": null,
   "id": "5809f820",
   "metadata": {},
   "outputs": [],
   "source": []
  }
 ],
 "metadata": {
  "kernelspec": {
   "display_name": "Python 3 (ipykernel)",
   "language": "python",
   "name": "python3"
  },
  "language_info": {
   "codemirror_mode": {
    "name": "ipython",
    "version": 3
   },
   "file_extension": ".py",
   "mimetype": "text/x-python",
   "name": "python",
   "nbconvert_exporter": "python",
   "pygments_lexer": "ipython3",
   "version": "3.7.3"
  }
 },
 "nbformat": 4,
 "nbformat_minor": 5
}
