{
 "cells": [
  {
   "cell_type": "code",
   "execution_count": 1,
   "id": "4e67acc5",
   "metadata": {},
   "outputs": [
    {
     "name": "stdout",
     "output_type": "stream",
     "text": [
      "from example1\n",
      "from example2\n"
     ]
    }
   ],
   "source": [
    "# a modules is a collection functions, classes and variables\n",
    "# a package collection of modules\n",
    "# a package is usually a directory and will have file named __init__.py\n",
    "# create a directory mypackage\n",
    "# below mypackage1 create files __init__.py, example1.py and example2.py\n",
    "import mypackage1\n",
    "\n",
    "mypackage1.f()\n",
    "mypackage1.g()"
   ]
  },
  {
   "cell_type": "code",
   "execution_count": null,
   "id": "f6ed0fbf",
   "metadata": {},
   "outputs": [],
   "source": [
    "# installing package/module from python repository\n",
    "# pypi.org - lot of packages/modules\n",
    "# from jupyter - !pip install packagename - packagename can be pandas, numpy, matplotlib\n",
    "# from cmd -  python (or) py -m pip install packagename "
   ]
  }
 ],
 "metadata": {
  "kernelspec": {
   "display_name": "Python 3 (ipykernel)",
   "language": "python",
   "name": "python3"
  },
  "language_info": {
   "codemirror_mode": {
    "name": "ipython",
    "version": 3
   },
   "file_extension": ".py",
   "mimetype": "text/x-python",
   "name": "python",
   "nbconvert_exporter": "python",
   "pygments_lexer": "ipython3",
   "version": "3.7.3"
  }
 },
 "nbformat": 4,
 "nbformat_minor": 5
}
