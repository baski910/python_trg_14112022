{
 "cells": [
  {
   "cell_type": "code",
   "execution_count": 5,
   "id": "b486e368",
   "metadata": {},
   "outputs": [
    {
     "name": "stdout",
     "output_type": "stream",
     "text": [
      "this is an example class\n",
      "<__main__.Point object at 0x7f4dcc51f6d8>\n",
      "2\n",
      "this is an instance method\n"
     ]
    }
   ],
   "source": [
    "\"\"\"Example class\"\"\"\n",
    "\n",
    "# functions declared inside a class are called methods\n",
    "# the first parameter to methods are assigned with the object reference\n",
    "class Point:\n",
    "    \"\"\"this is an example class\"\"\"\n",
    "    # example for instance method (bound method)\n",
    "    def showValues(self,num):\n",
    "        print(\"from instance method:\"\",self)\n",
    "        print(num)\n",
    "        print(\"this is an instance method\")\n",
    "\n",
    "if __name__ == '__main__':\n",
    "    p1 = Point()\n",
    "    # get the documentation string\n",
    "    print(p1.__doc__)\n",
    "    # call the object method\n",
    "    print(\"from main:\",p1)\n",
    "    p1.showValues(2) # p1.showValues(p1)"
   ]
  },
  {
   "cell_type": "code",
   "execution_count": null,
   "id": "fbfef618",
   "metadata": {},
   "outputs": [],
   "source": []
  }
 ],
 "metadata": {
  "kernelspec": {
   "display_name": "Python 3 (ipykernel)",
   "language": "python",
   "name": "python3"
  },
  "language_info": {
   "codemirror_mode": {
    "name": "ipython",
    "version": 3
   },
   "file_extension": ".py",
   "mimetype": "text/x-python",
   "name": "python",
   "nbconvert_exporter": "python",
   "pygments_lexer": "ipython3",
   "version": "3.7.3"
  }
 },
 "nbformat": 4,
 "nbformat_minor": 5
}
