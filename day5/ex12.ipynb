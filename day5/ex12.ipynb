{
 "cells": [
  {
   "cell_type": "code",
   "execution_count": 2,
   "id": "bc6d50f1",
   "metadata": {},
   "outputs": [
    {
     "name": "stdout",
     "output_type": "stream",
     "text": [
      "x-val:19,y-val:25\n",
      "x-val:26,y-val:31\n",
      "x-val:45,y-val:56\n"
     ]
    }
   ],
   "source": [
    "# operator overloading\n",
    "# using operator between user defined objects\n",
    "# to achieve the class needs to implement some magic methods\n",
    "# '+' - __add__\n",
    "# '-' - __sub__\n",
    "# '==' - __eq__\n",
    "# '<' - __lt__\n",
    "\n",
    "class Point:\n",
    "    \"\"\"this is an example class\"\"\"\n",
    "    def __init__(self,xval,yval): \n",
    "        self.x = xval \n",
    "        self.y = yval \n",
    "    \n",
    "    def __add__(self, other):\n",
    "        x = self.x + other.x\n",
    "        y = self.y + other.y\n",
    "        return Point(x,y)\n",
    "           \n",
    "    def __repr__(self): \n",
    "        return \"x-val:{},y-val:{}\".format(self.x,self.y)\n",
    "    \n",
    "if __name__ == '__main__':\n",
    "    p1 = Point(19,25)\n",
    "    print(p1)\n",
    "    \n",
    "    p2 = Point(26,31)\n",
    "    print(p2)\n",
    "    \n",
    "    print(p1+p2) # results in error if Point class has not implemented __add_\n",
    "                 # p1+p2 is equivalent to p1.__add__(p1,p2)_"
   ]
  },
  {
   "cell_type": "code",
   "execution_count": null,
   "id": "4fa85fd9",
   "metadata": {},
   "outputs": [],
   "source": []
  }
 ],
 "metadata": {
  "kernelspec": {
   "display_name": "Python 3 (ipykernel)",
   "language": "python",
   "name": "python3"
  },
  "language_info": {
   "codemirror_mode": {
    "name": "ipython",
    "version": 3
   },
   "file_extension": ".py",
   "mimetype": "text/x-python",
   "name": "python",
   "nbconvert_exporter": "python",
   "pygments_lexer": "ipython3",
   "version": "3.7.3"
  }
 },
 "nbformat": 4,
 "nbformat_minor": 5
}
