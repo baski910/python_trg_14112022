{
 "cells": [
  {
   "cell_type": "code",
   "execution_count": 3,
   "id": "c4ad7f9a",
   "metadata": {},
   "outputs": [
    {
     "name": "stdout",
     "output_type": "stream",
     "text": [
      "parameters are: 19 25\n",
      "this is an instance method\n",
      "<__main__.Point object at 0x7ff4703ba470>\n"
     ]
    }
   ],
   "source": [
    "\"\"\"magic method __repr__\"\"\"\n",
    "\n",
    "# functions declared inside a class are called methods\n",
    "# the first parameter to methods are assigned with the object reference\n",
    "class Point:\n",
    "    \"\"\"this is an example class\"\"\"\n",
    "    def __init__(self,xval,yval): # passing parameters to constructors\n",
    "        self.x = xval # variables created with object reference are called instance attributes\n",
    "        self.y = yval # variables created with object reference are called instance attributes\n",
    "        \n",
    "    # example for instance method (bound method)\n",
    "    def showValues(self):\n",
    "        # display instance attributes\n",
    "        print(\"parameters are:\",self.x,self.y)\n",
    "        print(\"this is an instance method\")\n",
    "        \n",
    "    def __repr__(self): # called when object is printed. need not be called explicitly\n",
    "        return \"x-val:{},y-val:{}\".format(self.x,self.y)\n",
    "    \n",
    "if __name__ == '__main__':\n",
    "    p1 = Point(19,25)\n",
    "    # call the object method\n",
    "    p1.showValues()\n",
    "    print(p1)\n",
    "    \n",
    "    #p2 = Point(26,31)\n",
    "    #p2.showValues()"
   ]
  },
  {
   "cell_type": "code",
   "execution_count": null,
   "id": "d5173ae6",
   "metadata": {},
   "outputs": [],
   "source": []
  }
 ],
 "metadata": {
  "kernelspec": {
   "display_name": "Python 3 (ipykernel)",
   "language": "python",
   "name": "python3"
  },
  "language_info": {
   "codemirror_mode": {
    "name": "ipython",
    "version": 3
   },
   "file_extension": ".py",
   "mimetype": "text/x-python",
   "name": "python",
   "nbconvert_exporter": "python",
   "pygments_lexer": "ipython3",
   "version": "3.7.3"
  }
 },
 "nbformat": 4,
 "nbformat_minor": 5
}
